{
 "cells": [
  {
   "cell_type": "markdown",
   "metadata": {},
   "source": [
    "This study aims to analyze a dataset from Kaggle on credit applications. Our analysis aims to identify the most influential demographic and financial factors in the decision to grant or refuse a credit. First, we will explore the socio-demographic variables of the applicants. Then, we will look at the intrinsic characteristics of the requested credits."
   ]
  },
  {
   "cell_type": "code",
   "execution_count": 6,
   "metadata": {},
   "outputs": [],
   "source": [
    "import pandas as pd\n",
    "import numpy\n",
    "import matplotlib.pyplot as plt\n",
    "import seaborn as sns"
   ]
  },
  {
   "cell_type": "markdown",
   "metadata": {},
   "source": [
    "# Data Exploration"
   ]
  },
  {
   "cell_type": "code",
   "execution_count": 7,
   "metadata": {},
   "outputs": [
    {
     "data": {
      "text/html": [
       "<div>\n",
       "<style scoped>\n",
       "    .dataframe tbody tr th:only-of-type {\n",
       "        vertical-align: middle;\n",
       "    }\n",
       "\n",
       "    .dataframe tbody tr th {\n",
       "        vertical-align: top;\n",
       "    }\n",
       "\n",
       "    .dataframe thead th {\n",
       "        text-align: right;\n",
       "    }\n",
       "</style>\n",
       "<table border=\"1\" class=\"dataframe\">\n",
       "  <thead>\n",
       "    <tr style=\"text-align: right;\">\n",
       "      <th></th>\n",
       "      <th>ApplicationDate</th>\n",
       "      <th>Age</th>\n",
       "      <th>AnnualIncome</th>\n",
       "      <th>CreditScore</th>\n",
       "      <th>EmploymentStatus</th>\n",
       "      <th>EducationLevel</th>\n",
       "      <th>Experience</th>\n",
       "      <th>LoanAmount</th>\n",
       "      <th>LoanDuration</th>\n",
       "      <th>MaritalStatus</th>\n",
       "      <th>...</th>\n",
       "      <th>MonthlyIncome</th>\n",
       "      <th>UtilityBillsPaymentHistory</th>\n",
       "      <th>JobTenure</th>\n",
       "      <th>NetWorth</th>\n",
       "      <th>BaseInterestRate</th>\n",
       "      <th>InterestRate</th>\n",
       "      <th>MonthlyLoanPayment</th>\n",
       "      <th>TotalDebtToIncomeRatio</th>\n",
       "      <th>LoanApproved</th>\n",
       "      <th>RiskScore</th>\n",
       "    </tr>\n",
       "  </thead>\n",
       "  <tbody>\n",
       "    <tr>\n",
       "      <th>0</th>\n",
       "      <td>2018-01-01</td>\n",
       "      <td>45</td>\n",
       "      <td>39948</td>\n",
       "      <td>617</td>\n",
       "      <td>Employed</td>\n",
       "      <td>Master</td>\n",
       "      <td>22</td>\n",
       "      <td>13152</td>\n",
       "      <td>48</td>\n",
       "      <td>Married</td>\n",
       "      <td>...</td>\n",
       "      <td>3329.000000</td>\n",
       "      <td>0.724972</td>\n",
       "      <td>11</td>\n",
       "      <td>126928</td>\n",
       "      <td>0.199652</td>\n",
       "      <td>0.227590</td>\n",
       "      <td>419.805992</td>\n",
       "      <td>0.181077</td>\n",
       "      <td>0</td>\n",
       "      <td>49.0</td>\n",
       "    </tr>\n",
       "    <tr>\n",
       "      <th>1</th>\n",
       "      <td>2018-01-02</td>\n",
       "      <td>38</td>\n",
       "      <td>39709</td>\n",
       "      <td>628</td>\n",
       "      <td>Employed</td>\n",
       "      <td>Associate</td>\n",
       "      <td>15</td>\n",
       "      <td>26045</td>\n",
       "      <td>48</td>\n",
       "      <td>Single</td>\n",
       "      <td>...</td>\n",
       "      <td>3309.083333</td>\n",
       "      <td>0.935132</td>\n",
       "      <td>3</td>\n",
       "      <td>43609</td>\n",
       "      <td>0.207045</td>\n",
       "      <td>0.201077</td>\n",
       "      <td>794.054238</td>\n",
       "      <td>0.389852</td>\n",
       "      <td>0</td>\n",
       "      <td>52.0</td>\n",
       "    </tr>\n",
       "    <tr>\n",
       "      <th>2</th>\n",
       "      <td>2018-01-03</td>\n",
       "      <td>47</td>\n",
       "      <td>40724</td>\n",
       "      <td>570</td>\n",
       "      <td>Employed</td>\n",
       "      <td>Bachelor</td>\n",
       "      <td>26</td>\n",
       "      <td>17627</td>\n",
       "      <td>36</td>\n",
       "      <td>Married</td>\n",
       "      <td>...</td>\n",
       "      <td>3393.666667</td>\n",
       "      <td>0.872241</td>\n",
       "      <td>6</td>\n",
       "      <td>5205</td>\n",
       "      <td>0.217627</td>\n",
       "      <td>0.212548</td>\n",
       "      <td>666.406688</td>\n",
       "      <td>0.462157</td>\n",
       "      <td>0</td>\n",
       "      <td>52.0</td>\n",
       "    </tr>\n",
       "    <tr>\n",
       "      <th>3</th>\n",
       "      <td>2018-01-04</td>\n",
       "      <td>58</td>\n",
       "      <td>69084</td>\n",
       "      <td>545</td>\n",
       "      <td>Employed</td>\n",
       "      <td>High School</td>\n",
       "      <td>34</td>\n",
       "      <td>37898</td>\n",
       "      <td>96</td>\n",
       "      <td>Single</td>\n",
       "      <td>...</td>\n",
       "      <td>5757.000000</td>\n",
       "      <td>0.896155</td>\n",
       "      <td>5</td>\n",
       "      <td>99452</td>\n",
       "      <td>0.300398</td>\n",
       "      <td>0.300911</td>\n",
       "      <td>1047.506980</td>\n",
       "      <td>0.313098</td>\n",
       "      <td>0</td>\n",
       "      <td>54.0</td>\n",
       "    </tr>\n",
       "    <tr>\n",
       "      <th>4</th>\n",
       "      <td>2018-01-05</td>\n",
       "      <td>37</td>\n",
       "      <td>103264</td>\n",
       "      <td>594</td>\n",
       "      <td>Employed</td>\n",
       "      <td>Associate</td>\n",
       "      <td>17</td>\n",
       "      <td>9184</td>\n",
       "      <td>36</td>\n",
       "      <td>Married</td>\n",
       "      <td>...</td>\n",
       "      <td>8605.333333</td>\n",
       "      <td>0.941369</td>\n",
       "      <td>5</td>\n",
       "      <td>227019</td>\n",
       "      <td>0.197184</td>\n",
       "      <td>0.175990</td>\n",
       "      <td>330.179140</td>\n",
       "      <td>0.070210</td>\n",
       "      <td>1</td>\n",
       "      <td>36.0</td>\n",
       "    </tr>\n",
       "    <tr>\n",
       "      <th>5</th>\n",
       "      <td>2018-01-06</td>\n",
       "      <td>37</td>\n",
       "      <td>178310</td>\n",
       "      <td>626</td>\n",
       "      <td>Self-Employed</td>\n",
       "      <td>Master</td>\n",
       "      <td>16</td>\n",
       "      <td>15433</td>\n",
       "      <td>72</td>\n",
       "      <td>Married</td>\n",
       "      <td>...</td>\n",
       "      <td>14859.166667</td>\n",
       "      <td>0.756079</td>\n",
       "      <td>5</td>\n",
       "      <td>27071</td>\n",
       "      <td>0.217433</td>\n",
       "      <td>0.217601</td>\n",
       "      <td>385.577074</td>\n",
       "      <td>0.075211</td>\n",
       "      <td>1</td>\n",
       "      <td>44.0</td>\n",
       "    </tr>\n",
       "    <tr>\n",
       "      <th>6</th>\n",
       "      <td>2018-01-07</td>\n",
       "      <td>58</td>\n",
       "      <td>51250</td>\n",
       "      <td>564</td>\n",
       "      <td>Employed</td>\n",
       "      <td>High School</td>\n",
       "      <td>39</td>\n",
       "      <td>12741</td>\n",
       "      <td>48</td>\n",
       "      <td>Married</td>\n",
       "      <td>...</td>\n",
       "      <td>4270.833333</td>\n",
       "      <td>0.884275</td>\n",
       "      <td>5</td>\n",
       "      <td>21730</td>\n",
       "      <td>0.225741</td>\n",
       "      <td>0.205271</td>\n",
       "      <td>391.300352</td>\n",
       "      <td>0.170529</td>\n",
       "      <td>0</td>\n",
       "      <td>50.0</td>\n",
       "    </tr>\n",
       "    <tr>\n",
       "      <th>7</th>\n",
       "      <td>2018-01-08</td>\n",
       "      <td>49</td>\n",
       "      <td>97345</td>\n",
       "      <td>516</td>\n",
       "      <td>Employed</td>\n",
       "      <td>High School</td>\n",
       "      <td>23</td>\n",
       "      <td>19634</td>\n",
       "      <td>12</td>\n",
       "      <td>Divorced</td>\n",
       "      <td>...</td>\n",
       "      <td>8112.083333</td>\n",
       "      <td>0.933492</td>\n",
       "      <td>5</td>\n",
       "      <td>38621</td>\n",
       "      <td>0.226634</td>\n",
       "      <td>0.209113</td>\n",
       "      <td>1827.360055</td>\n",
       "      <td>0.260767</td>\n",
       "      <td>1</td>\n",
       "      <td>42.4</td>\n",
       "    </tr>\n",
       "    <tr>\n",
       "      <th>8</th>\n",
       "      <td>2018-01-09</td>\n",
       "      <td>34</td>\n",
       "      <td>116841</td>\n",
       "      <td>603</td>\n",
       "      <td>Employed</td>\n",
       "      <td>Bachelor</td>\n",
       "      <td>12</td>\n",
       "      <td>55353</td>\n",
       "      <td>60</td>\n",
       "      <td>Divorced</td>\n",
       "      <td>...</td>\n",
       "      <td>9736.750000</td>\n",
       "      <td>0.728397</td>\n",
       "      <td>3</td>\n",
       "      <td>7711</td>\n",
       "      <td>0.258853</td>\n",
       "      <td>0.291539</td>\n",
       "      <td>1762.199026</td>\n",
       "      <td>0.246509</td>\n",
       "      <td>0</td>\n",
       "      <td>61.0</td>\n",
       "    </tr>\n",
       "    <tr>\n",
       "      <th>9</th>\n",
       "      <td>2018-01-10</td>\n",
       "      <td>46</td>\n",
       "      <td>40615</td>\n",
       "      <td>612</td>\n",
       "      <td>Employed</td>\n",
       "      <td>Associate</td>\n",
       "      <td>19</td>\n",
       "      <td>25443</td>\n",
       "      <td>12</td>\n",
       "      <td>Married</td>\n",
       "      <td>...</td>\n",
       "      <td>3384.583333</td>\n",
       "      <td>0.615323</td>\n",
       "      <td>3</td>\n",
       "      <td>116812</td>\n",
       "      <td>0.184443</td>\n",
       "      <td>0.197271</td>\n",
       "      <td>2353.577424</td>\n",
       "      <td>0.903384</td>\n",
       "      <td>0</td>\n",
       "      <td>53.0</td>\n",
       "    </tr>\n",
       "  </tbody>\n",
       "</table>\n",
       "<p>10 rows × 36 columns</p>\n",
       "</div>"
      ],
      "text/plain": [
       "  ApplicationDate  Age  AnnualIncome  CreditScore EmploymentStatus  \\\n",
       "0      2018-01-01   45         39948          617         Employed   \n",
       "1      2018-01-02   38         39709          628         Employed   \n",
       "2      2018-01-03   47         40724          570         Employed   \n",
       "3      2018-01-04   58         69084          545         Employed   \n",
       "4      2018-01-05   37        103264          594         Employed   \n",
       "5      2018-01-06   37        178310          626    Self-Employed   \n",
       "6      2018-01-07   58         51250          564         Employed   \n",
       "7      2018-01-08   49         97345          516         Employed   \n",
       "8      2018-01-09   34        116841          603         Employed   \n",
       "9      2018-01-10   46         40615          612         Employed   \n",
       "\n",
       "  EducationLevel  Experience  LoanAmount  LoanDuration MaritalStatus  ...  \\\n",
       "0         Master          22       13152            48       Married  ...   \n",
       "1      Associate          15       26045            48        Single  ...   \n",
       "2       Bachelor          26       17627            36       Married  ...   \n",
       "3    High School          34       37898            96        Single  ...   \n",
       "4      Associate          17        9184            36       Married  ...   \n",
       "5         Master          16       15433            72       Married  ...   \n",
       "6    High School          39       12741            48       Married  ...   \n",
       "7    High School          23       19634            12      Divorced  ...   \n",
       "8       Bachelor          12       55353            60      Divorced  ...   \n",
       "9      Associate          19       25443            12       Married  ...   \n",
       "\n",
       "   MonthlyIncome UtilityBillsPaymentHistory  JobTenure  NetWorth  \\\n",
       "0    3329.000000                   0.724972         11    126928   \n",
       "1    3309.083333                   0.935132          3     43609   \n",
       "2    3393.666667                   0.872241          6      5205   \n",
       "3    5757.000000                   0.896155          5     99452   \n",
       "4    8605.333333                   0.941369          5    227019   \n",
       "5   14859.166667                   0.756079          5     27071   \n",
       "6    4270.833333                   0.884275          5     21730   \n",
       "7    8112.083333                   0.933492          5     38621   \n",
       "8    9736.750000                   0.728397          3      7711   \n",
       "9    3384.583333                   0.615323          3    116812   \n",
       "\n",
       "   BaseInterestRate  InterestRate  MonthlyLoanPayment  TotalDebtToIncomeRatio  \\\n",
       "0          0.199652      0.227590          419.805992                0.181077   \n",
       "1          0.207045      0.201077          794.054238                0.389852   \n",
       "2          0.217627      0.212548          666.406688                0.462157   \n",
       "3          0.300398      0.300911         1047.506980                0.313098   \n",
       "4          0.197184      0.175990          330.179140                0.070210   \n",
       "5          0.217433      0.217601          385.577074                0.075211   \n",
       "6          0.225741      0.205271          391.300352                0.170529   \n",
       "7          0.226634      0.209113         1827.360055                0.260767   \n",
       "8          0.258853      0.291539         1762.199026                0.246509   \n",
       "9          0.184443      0.197271         2353.577424                0.903384   \n",
       "\n",
       "  LoanApproved  RiskScore  \n",
       "0            0       49.0  \n",
       "1            0       52.0  \n",
       "2            0       52.0  \n",
       "3            0       54.0  \n",
       "4            1       36.0  \n",
       "5            1       44.0  \n",
       "6            0       50.0  \n",
       "7            1       42.4  \n",
       "8            0       61.0  \n",
       "9            0       53.0  \n",
       "\n",
       "[10 rows x 36 columns]"
      ]
     },
     "execution_count": 7,
     "metadata": {},
     "output_type": "execute_result"
    }
   ],
   "source": [
    "data = pd.read_csv('Loan.csv')\n",
    "data.head(10)"
   ]
  },
  {
   "cell_type": "code",
   "execution_count": 65,
   "metadata": {},
   "outputs": [
    {
     "name": "stdout",
     "output_type": "stream",
     "text": [
      "0        2018-01-01\n",
      "1        2018-01-02\n",
      "2        2018-01-03\n",
      "3        2018-01-04\n",
      "4        2018-01-05\n",
      "            ...    \n",
      "19995    2072-09-29\n",
      "19996    2072-09-30\n",
      "19997    2072-10-01\n",
      "19998    2072-10-02\n",
      "19999    2072-10-03\n",
      "Name: ApplicationDate, Length: 20000, dtype: object\n"
     ]
    }
   ],
   "source": [
    "print(data.ApplicationDate)"
   ]
  },
  {
   "cell_type": "code",
   "execution_count": 4,
   "metadata": {},
   "outputs": [
    {
     "data": {
      "text/plain": [
       "Index(['ApplicationDate', 'Age', 'AnnualIncome', 'CreditScore',\n",
       "       'EmploymentStatus', 'EducationLevel', 'Experience', 'LoanAmount',\n",
       "       'LoanDuration', 'MaritalStatus', 'NumberOfDependents',\n",
       "       'HomeOwnershipStatus', 'MonthlyDebtPayments',\n",
       "       'CreditCardUtilizationRate', 'NumberOfOpenCreditLines',\n",
       "       'NumberOfCreditInquiries', 'DebtToIncomeRatio', 'BankruptcyHistory',\n",
       "       'LoanPurpose', 'PreviousLoanDefaults', 'PaymentHistory',\n",
       "       'LengthOfCreditHistory', 'SavingsAccountBalance',\n",
       "       'CheckingAccountBalance', 'TotalAssets', 'TotalLiabilities',\n",
       "       'MonthlyIncome', 'UtilityBillsPaymentHistory', 'JobTenure', 'NetWorth',\n",
       "       'BaseInterestRate', 'InterestRate', 'MonthlyLoanPayment',\n",
       "       'TotalDebtToIncomeRatio', 'LoanApproved', 'RiskScore'],\n",
       "      dtype='object')"
      ]
     },
     "execution_count": 4,
     "metadata": {},
     "output_type": "execute_result"
    }
   ],
   "source": [
    "data.columns"
   ]
  },
  {
   "cell_type": "code",
   "execution_count": 6,
   "metadata": {},
   "outputs": [
    {
     "name": "stdout",
     "output_type": "stream",
     "text": [
      "<class 'pandas.core.frame.DataFrame'>\n",
      "RangeIndex: 20000 entries, 0 to 19999\n",
      "Data columns (total 36 columns):\n",
      " #   Column                      Non-Null Count  Dtype  \n",
      "---  ------                      --------------  -----  \n",
      " 0   ApplicationDate             20000 non-null  object \n",
      " 1   Age                         20000 non-null  int64  \n",
      " 2   AnnualIncome                20000 non-null  int64  \n",
      " 3   CreditScore                 20000 non-null  int64  \n",
      " 4   EmploymentStatus            20000 non-null  object \n",
      " 5   EducationLevel              20000 non-null  object \n",
      " 6   Experience                  20000 non-null  int64  \n",
      " 7   LoanAmount                  20000 non-null  int64  \n",
      " 8   LoanDuration                20000 non-null  int64  \n",
      " 9   MaritalStatus               20000 non-null  object \n",
      " 10  NumberOfDependents          20000 non-null  int64  \n",
      " 11  HomeOwnershipStatus         20000 non-null  object \n",
      " 12  MonthlyDebtPayments         20000 non-null  int64  \n",
      " 13  CreditCardUtilizationRate   20000 non-null  float64\n",
      " 14  NumberOfOpenCreditLines     20000 non-null  int64  \n",
      " 15  NumberOfCreditInquiries     20000 non-null  int64  \n",
      " 16  DebtToIncomeRatio           20000 non-null  float64\n",
      " 17  BankruptcyHistory           20000 non-null  int64  \n",
      " 18  LoanPurpose                 20000 non-null  object \n",
      " 19  PreviousLoanDefaults        20000 non-null  int64  \n",
      " 20  PaymentHistory              20000 non-null  int64  \n",
      " 21  LengthOfCreditHistory       20000 non-null  int64  \n",
      " 22  SavingsAccountBalance       20000 non-null  int64  \n",
      " 23  CheckingAccountBalance      20000 non-null  int64  \n",
      " 24  TotalAssets                 20000 non-null  int64  \n",
      " 25  TotalLiabilities            20000 non-null  int64  \n",
      " 26  MonthlyIncome               20000 non-null  float64\n",
      " 27  UtilityBillsPaymentHistory  20000 non-null  float64\n",
      " 28  JobTenure                   20000 non-null  int64  \n",
      " 29  NetWorth                    20000 non-null  int64  \n",
      " 30  BaseInterestRate            20000 non-null  float64\n",
      " 31  InterestRate                20000 non-null  float64\n",
      " 32  MonthlyLoanPayment          20000 non-null  float64\n",
      " 33  TotalDebtToIncomeRatio      20000 non-null  float64\n",
      " 34  LoanApproved                20000 non-null  int64  \n",
      " 35  RiskScore                   20000 non-null  float64\n",
      "dtypes: float64(9), int64(21), object(6)\n",
      "memory usage: 5.5+ MB\n"
     ]
    }
   ],
   "source": [
    "data.info()"
   ]
  },
  {
   "cell_type": "code",
   "execution_count": 8,
   "metadata": {},
   "outputs": [
    {
     "data": {
      "text/plain": [
       "0        False\n",
       "1        False\n",
       "2        False\n",
       "3        False\n",
       "4        False\n",
       "         ...  \n",
       "19995    False\n",
       "19996    False\n",
       "19997    False\n",
       "19998    False\n",
       "19999    False\n",
       "Length: 20000, dtype: bool"
      ]
     },
     "execution_count": 8,
     "metadata": {},
     "output_type": "execute_result"
    }
   ],
   "source": [
    "# Check for duplicates\n",
    "data.duplicated()"
   ]
  },
  {
   "cell_type": "markdown",
   "metadata": {},
   "source": [
    "# Demographics and Loan Approval "
   ]
  },
  {
   "cell_type": "markdown",
   "metadata": {},
   "source": [
    "### Age"
   ]
  },
  {
   "cell_type": "code",
   "execution_count": 6,
   "metadata": {},
   "outputs": [
    {
     "data": {
      "text/html": [
       "<div>\n",
       "<style scoped>\n",
       "    .dataframe tbody tr th:only-of-type {\n",
       "        vertical-align: middle;\n",
       "    }\n",
       "\n",
       "    .dataframe tbody tr th {\n",
       "        vertical-align: top;\n",
       "    }\n",
       "\n",
       "    .dataframe thead th {\n",
       "        text-align: right;\n",
       "    }\n",
       "</style>\n",
       "<table border=\"1\" class=\"dataframe\">\n",
       "  <thead>\n",
       "    <tr style=\"text-align: right;\">\n",
       "      <th></th>\n",
       "      <th>ApplicationDate</th>\n",
       "      <th>Age</th>\n",
       "      <th>AnnualIncome</th>\n",
       "      <th>CreditScore</th>\n",
       "      <th>EmploymentStatus</th>\n",
       "      <th>EducationLevel</th>\n",
       "      <th>Experience</th>\n",
       "      <th>LoanAmount</th>\n",
       "      <th>LoanDuration</th>\n",
       "      <th>MaritalStatus</th>\n",
       "      <th>...</th>\n",
       "      <th>UtilityBillsPaymentHistory</th>\n",
       "      <th>JobTenure</th>\n",
       "      <th>NetWorth</th>\n",
       "      <th>BaseInterestRate</th>\n",
       "      <th>InterestRate</th>\n",
       "      <th>MonthlyLoanPayment</th>\n",
       "      <th>TotalDebtToIncomeRatio</th>\n",
       "      <th>LoanApproved</th>\n",
       "      <th>RiskScore</th>\n",
       "      <th>AgeGroup</th>\n",
       "    </tr>\n",
       "  </thead>\n",
       "  <tbody>\n",
       "    <tr>\n",
       "      <th>0</th>\n",
       "      <td>2018-01-01</td>\n",
       "      <td>45</td>\n",
       "      <td>39948</td>\n",
       "      <td>617</td>\n",
       "      <td>Employed</td>\n",
       "      <td>Master</td>\n",
       "      <td>22</td>\n",
       "      <td>13152</td>\n",
       "      <td>48</td>\n",
       "      <td>Married</td>\n",
       "      <td>...</td>\n",
       "      <td>0.724972</td>\n",
       "      <td>11</td>\n",
       "      <td>126928</td>\n",
       "      <td>0.199652</td>\n",
       "      <td>0.227590</td>\n",
       "      <td>419.805992</td>\n",
       "      <td>0.181077</td>\n",
       "      <td>0</td>\n",
       "      <td>49.0</td>\n",
       "      <td>Middle-aged adults</td>\n",
       "    </tr>\n",
       "    <tr>\n",
       "      <th>1</th>\n",
       "      <td>2018-01-02</td>\n",
       "      <td>38</td>\n",
       "      <td>39709</td>\n",
       "      <td>628</td>\n",
       "      <td>Employed</td>\n",
       "      <td>Associate</td>\n",
       "      <td>15</td>\n",
       "      <td>26045</td>\n",
       "      <td>48</td>\n",
       "      <td>Single</td>\n",
       "      <td>...</td>\n",
       "      <td>0.935132</td>\n",
       "      <td>3</td>\n",
       "      <td>43609</td>\n",
       "      <td>0.207045</td>\n",
       "      <td>0.201077</td>\n",
       "      <td>794.054238</td>\n",
       "      <td>0.389852</td>\n",
       "      <td>0</td>\n",
       "      <td>52.0</td>\n",
       "      <td>Middle-aged adults</td>\n",
       "    </tr>\n",
       "    <tr>\n",
       "      <th>2</th>\n",
       "      <td>2018-01-03</td>\n",
       "      <td>47</td>\n",
       "      <td>40724</td>\n",
       "      <td>570</td>\n",
       "      <td>Employed</td>\n",
       "      <td>Bachelor</td>\n",
       "      <td>26</td>\n",
       "      <td>17627</td>\n",
       "      <td>36</td>\n",
       "      <td>Married</td>\n",
       "      <td>...</td>\n",
       "      <td>0.872241</td>\n",
       "      <td>6</td>\n",
       "      <td>5205</td>\n",
       "      <td>0.217627</td>\n",
       "      <td>0.212548</td>\n",
       "      <td>666.406688</td>\n",
       "      <td>0.462157</td>\n",
       "      <td>0</td>\n",
       "      <td>52.0</td>\n",
       "      <td>Middle-aged adults</td>\n",
       "    </tr>\n",
       "    <tr>\n",
       "      <th>3</th>\n",
       "      <td>2018-01-04</td>\n",
       "      <td>58</td>\n",
       "      <td>69084</td>\n",
       "      <td>545</td>\n",
       "      <td>Employed</td>\n",
       "      <td>High School</td>\n",
       "      <td>34</td>\n",
       "      <td>37898</td>\n",
       "      <td>96</td>\n",
       "      <td>Single</td>\n",
       "      <td>...</td>\n",
       "      <td>0.896155</td>\n",
       "      <td>5</td>\n",
       "      <td>99452</td>\n",
       "      <td>0.300398</td>\n",
       "      <td>0.300911</td>\n",
       "      <td>1047.506980</td>\n",
       "      <td>0.313098</td>\n",
       "      <td>0</td>\n",
       "      <td>54.0</td>\n",
       "      <td>Older adults</td>\n",
       "    </tr>\n",
       "    <tr>\n",
       "      <th>4</th>\n",
       "      <td>2018-01-05</td>\n",
       "      <td>37</td>\n",
       "      <td>103264</td>\n",
       "      <td>594</td>\n",
       "      <td>Employed</td>\n",
       "      <td>Associate</td>\n",
       "      <td>17</td>\n",
       "      <td>9184</td>\n",
       "      <td>36</td>\n",
       "      <td>Married</td>\n",
       "      <td>...</td>\n",
       "      <td>0.941369</td>\n",
       "      <td>5</td>\n",
       "      <td>227019</td>\n",
       "      <td>0.197184</td>\n",
       "      <td>0.175990</td>\n",
       "      <td>330.179140</td>\n",
       "      <td>0.070210</td>\n",
       "      <td>1</td>\n",
       "      <td>36.0</td>\n",
       "      <td>Middle-aged adults</td>\n",
       "    </tr>\n",
       "    <tr>\n",
       "      <th>...</th>\n",
       "      <td>...</td>\n",
       "      <td>...</td>\n",
       "      <td>...</td>\n",
       "      <td>...</td>\n",
       "      <td>...</td>\n",
       "      <td>...</td>\n",
       "      <td>...</td>\n",
       "      <td>...</td>\n",
       "      <td>...</td>\n",
       "      <td>...</td>\n",
       "      <td>...</td>\n",
       "      <td>...</td>\n",
       "      <td>...</td>\n",
       "      <td>...</td>\n",
       "      <td>...</td>\n",
       "      <td>...</td>\n",
       "      <td>...</td>\n",
       "      <td>...</td>\n",
       "      <td>...</td>\n",
       "      <td>...</td>\n",
       "      <td>...</td>\n",
       "    </tr>\n",
       "    <tr>\n",
       "      <th>19995</th>\n",
       "      <td>2072-09-29</td>\n",
       "      <td>44</td>\n",
       "      <td>30180</td>\n",
       "      <td>587</td>\n",
       "      <td>Employed</td>\n",
       "      <td>High School</td>\n",
       "      <td>19</td>\n",
       "      <td>24521</td>\n",
       "      <td>36</td>\n",
       "      <td>Married</td>\n",
       "      <td>...</td>\n",
       "      <td>0.826217</td>\n",
       "      <td>1</td>\n",
       "      <td>55327</td>\n",
       "      <td>0.216021</td>\n",
       "      <td>0.195574</td>\n",
       "      <td>905.767712</td>\n",
       "      <td>0.627741</td>\n",
       "      <td>0</td>\n",
       "      <td>55.0</td>\n",
       "      <td>Middle-aged adults</td>\n",
       "    </tr>\n",
       "    <tr>\n",
       "      <th>19996</th>\n",
       "      <td>2072-09-30</td>\n",
       "      <td>56</td>\n",
       "      <td>49246</td>\n",
       "      <td>567</td>\n",
       "      <td>Employed</td>\n",
       "      <td>Associate</td>\n",
       "      <td>33</td>\n",
       "      <td>25818</td>\n",
       "      <td>36</td>\n",
       "      <td>Married</td>\n",
       "      <td>...</td>\n",
       "      <td>0.816618</td>\n",
       "      <td>3</td>\n",
       "      <td>64002</td>\n",
       "      <td>0.227318</td>\n",
       "      <td>0.199168</td>\n",
       "      <td>958.395633</td>\n",
       "      <td>0.334418</td>\n",
       "      <td>0</td>\n",
       "      <td>54.0</td>\n",
       "      <td>Older adults</td>\n",
       "    </tr>\n",
       "    <tr>\n",
       "      <th>19997</th>\n",
       "      <td>2072-10-01</td>\n",
       "      <td>44</td>\n",
       "      <td>48958</td>\n",
       "      <td>645</td>\n",
       "      <td>Employed</td>\n",
       "      <td>Bachelor</td>\n",
       "      <td>20</td>\n",
       "      <td>37033</td>\n",
       "      <td>72</td>\n",
       "      <td>Married</td>\n",
       "      <td>...</td>\n",
       "      <td>0.887216</td>\n",
       "      <td>3</td>\n",
       "      <td>103663</td>\n",
       "      <td>0.229533</td>\n",
       "      <td>0.226766</td>\n",
       "      <td>945.427454</td>\n",
       "      <td>0.357227</td>\n",
       "      <td>0</td>\n",
       "      <td>45.0</td>\n",
       "      <td>Middle-aged adults</td>\n",
       "    </tr>\n",
       "    <tr>\n",
       "      <th>19998</th>\n",
       "      <td>2072-10-02</td>\n",
       "      <td>60</td>\n",
       "      <td>41025</td>\n",
       "      <td>560</td>\n",
       "      <td>Employed</td>\n",
       "      <td>High School</td>\n",
       "      <td>36</td>\n",
       "      <td>14760</td>\n",
       "      <td>72</td>\n",
       "      <td>Married</td>\n",
       "      <td>...</td>\n",
       "      <td>0.843787</td>\n",
       "      <td>5</td>\n",
       "      <td>10600</td>\n",
       "      <td>0.249760</td>\n",
       "      <td>0.264873</td>\n",
       "      <td>411.168284</td>\n",
       "      <td>0.408678</td>\n",
       "      <td>0</td>\n",
       "      <td>59.0</td>\n",
       "      <td>Older adults</td>\n",
       "    </tr>\n",
       "    <tr>\n",
       "      <th>19999</th>\n",
       "      <td>2072-10-03</td>\n",
       "      <td>20</td>\n",
       "      <td>53227</td>\n",
       "      <td>574</td>\n",
       "      <td>Employed</td>\n",
       "      <td>Associate</td>\n",
       "      <td>0</td>\n",
       "      <td>32055</td>\n",
       "      <td>48</td>\n",
       "      <td>Married</td>\n",
       "      <td>...</td>\n",
       "      <td>0.853801</td>\n",
       "      <td>5</td>\n",
       "      <td>41372</td>\n",
       "      <td>0.240055</td>\n",
       "      <td>0.242693</td>\n",
       "      <td>1049.830407</td>\n",
       "      <td>0.298006</td>\n",
       "      <td>0</td>\n",
       "      <td>59.0</td>\n",
       "      <td>Youth</td>\n",
       "    </tr>\n",
       "  </tbody>\n",
       "</table>\n",
       "<p>20000 rows × 37 columns</p>\n",
       "</div>"
      ],
      "text/plain": [
       "      ApplicationDate  Age  AnnualIncome  CreditScore EmploymentStatus  \\\n",
       "0          2018-01-01   45         39948          617         Employed   \n",
       "1          2018-01-02   38         39709          628         Employed   \n",
       "2          2018-01-03   47         40724          570         Employed   \n",
       "3          2018-01-04   58         69084          545         Employed   \n",
       "4          2018-01-05   37        103264          594         Employed   \n",
       "...               ...  ...           ...          ...              ...   \n",
       "19995      2072-09-29   44         30180          587         Employed   \n",
       "19996      2072-09-30   56         49246          567         Employed   \n",
       "19997      2072-10-01   44         48958          645         Employed   \n",
       "19998      2072-10-02   60         41025          560         Employed   \n",
       "19999      2072-10-03   20         53227          574         Employed   \n",
       "\n",
       "      EducationLevel  Experience  LoanAmount  LoanDuration MaritalStatus  ...  \\\n",
       "0             Master          22       13152            48       Married  ...   \n",
       "1          Associate          15       26045            48        Single  ...   \n",
       "2           Bachelor          26       17627            36       Married  ...   \n",
       "3        High School          34       37898            96        Single  ...   \n",
       "4          Associate          17        9184            36       Married  ...   \n",
       "...              ...         ...         ...           ...           ...  ...   \n",
       "19995    High School          19       24521            36       Married  ...   \n",
       "19996      Associate          33       25818            36       Married  ...   \n",
       "19997       Bachelor          20       37033            72       Married  ...   \n",
       "19998    High School          36       14760            72       Married  ...   \n",
       "19999      Associate           0       32055            48       Married  ...   \n",
       "\n",
       "       UtilityBillsPaymentHistory JobTenure  NetWorth  BaseInterestRate  \\\n",
       "0                        0.724972        11    126928          0.199652   \n",
       "1                        0.935132         3     43609          0.207045   \n",
       "2                        0.872241         6      5205          0.217627   \n",
       "3                        0.896155         5     99452          0.300398   \n",
       "4                        0.941369         5    227019          0.197184   \n",
       "...                           ...       ...       ...               ...   \n",
       "19995                    0.826217         1     55327          0.216021   \n",
       "19996                    0.816618         3     64002          0.227318   \n",
       "19997                    0.887216         3    103663          0.229533   \n",
       "19998                    0.843787         5     10600          0.249760   \n",
       "19999                    0.853801         5     41372          0.240055   \n",
       "\n",
       "       InterestRate  MonthlyLoanPayment  TotalDebtToIncomeRatio  LoanApproved  \\\n",
       "0          0.227590          419.805992                0.181077             0   \n",
       "1          0.201077          794.054238                0.389852             0   \n",
       "2          0.212548          666.406688                0.462157             0   \n",
       "3          0.300911         1047.506980                0.313098             0   \n",
       "4          0.175990          330.179140                0.070210             1   \n",
       "...             ...                 ...                     ...           ...   \n",
       "19995      0.195574          905.767712                0.627741             0   \n",
       "19996      0.199168          958.395633                0.334418             0   \n",
       "19997      0.226766          945.427454                0.357227             0   \n",
       "19998      0.264873          411.168284                0.408678             0   \n",
       "19999      0.242693         1049.830407                0.298006             0   \n",
       "\n",
       "      RiskScore            AgeGroup  \n",
       "0          49.0  Middle-aged adults  \n",
       "1          52.0  Middle-aged adults  \n",
       "2          52.0  Middle-aged adults  \n",
       "3          54.0        Older adults  \n",
       "4          36.0  Middle-aged adults  \n",
       "...         ...                 ...  \n",
       "19995      55.0  Middle-aged adults  \n",
       "19996      54.0        Older adults  \n",
       "19997      45.0  Middle-aged adults  \n",
       "19998      59.0        Older adults  \n",
       "19999      59.0               Youth  \n",
       "\n",
       "[20000 rows x 37 columns]"
      ]
     },
     "execution_count": 6,
     "metadata": {},
     "output_type": "execute_result"
    }
   ],
   "source": [
    "bins = [0, 25, 35, 50, 65, float('inf')]\n",
    "labels = ['Youth', 'Young adults', 'Middle-aged adults','Older adults', 'Seniors']\n",
    "data['AgeGroup']=pd.cut(data['Age'], bins = bins, labels=labels)\n",
    "data"
   ]
  },
  {
   "cell_type": "code",
   "execution_count": null,
   "metadata": {},
   "outputs": [],
   "source": [
    "# we save the new dataset with the changes (age groups) to use for our Tableau dashboard\n",
    "data.to_csv('LoanData.csv', index=False)"
   ]
  },
  {
   "cell_type": "code",
   "execution_count": 152,
   "metadata": {},
   "outputs": [
    {
     "data": {
      "text/html": [
       "<div>\n",
       "<style scoped>\n",
       "    .dataframe tbody tr th:only-of-type {\n",
       "        vertical-align: middle;\n",
       "    }\n",
       "\n",
       "    .dataframe tbody tr th {\n",
       "        vertical-align: top;\n",
       "    }\n",
       "\n",
       "    .dataframe thead th {\n",
       "        text-align: right;\n",
       "    }\n",
       "</style>\n",
       "<table border=\"1\" class=\"dataframe\">\n",
       "  <thead>\n",
       "    <tr style=\"text-align: right;\">\n",
       "      <th>LoanApproved</th>\n",
       "      <th>0</th>\n",
       "      <th>1</th>\n",
       "      <th>TotalApplications</th>\n",
       "      <th>ApprovalPercentage</th>\n",
       "    </tr>\n",
       "    <tr>\n",
       "      <th>AgeGroup</th>\n",
       "      <th></th>\n",
       "      <th></th>\n",
       "      <th></th>\n",
       "      <th></th>\n",
       "    </tr>\n",
       "  </thead>\n",
       "  <tbody>\n",
       "    <tr>\n",
       "      <th>Youth</th>\n",
       "      <td>2105</td>\n",
       "      <td>277</td>\n",
       "      <td>2382</td>\n",
       "      <td>11.628883</td>\n",
       "    </tr>\n",
       "    <tr>\n",
       "      <th>Young adults</th>\n",
       "      <td>3994</td>\n",
       "      <td>968</td>\n",
       "      <td>4962</td>\n",
       "      <td>19.508263</td>\n",
       "    </tr>\n",
       "    <tr>\n",
       "      <th>Middle-aged adults</th>\n",
       "      <td>6613</td>\n",
       "      <td>2415</td>\n",
       "      <td>9028</td>\n",
       "      <td>26.750111</td>\n",
       "    </tr>\n",
       "    <tr>\n",
       "      <th>Older adults</th>\n",
       "      <td>2303</td>\n",
       "      <td>1022</td>\n",
       "      <td>3325</td>\n",
       "      <td>30.736842</td>\n",
       "    </tr>\n",
       "    <tr>\n",
       "      <th>Seniors</th>\n",
       "      <td>205</td>\n",
       "      <td>98</td>\n",
       "      <td>303</td>\n",
       "      <td>32.343234</td>\n",
       "    </tr>\n",
       "  </tbody>\n",
       "</table>\n",
       "</div>"
      ],
      "text/plain": [
       "LoanApproved           0     1  TotalApplications  ApprovalPercentage\n",
       "AgeGroup                                                             \n",
       "Youth               2105   277               2382           11.628883\n",
       "Young adults        3994   968               4962           19.508263\n",
       "Middle-aged adults  6613  2415               9028           26.750111\n",
       "Older adults        2303  1022               3325           30.736842\n",
       "Seniors              205    98                303           32.343234"
      ]
     },
     "execution_count": 152,
     "metadata": {},
     "output_type": "execute_result"
    }
   ],
   "source": [
    "AgevsLoan = data[['Age', 'LoanApproved', 'AgeGroup' ]]\n",
    "AgevsLoan = AgevsLoan.groupby('AgeGroup')['LoanApproved'].value_counts().unstack()\n",
    "AgevsLoan['TotalApplications'] = AgevsLoan[0] + AgevsLoan[1]\n",
    "AgevsLoan['ApprovalPercentage'] = AgevsLoan[1] / (AgevsLoan[0] + AgevsLoan[1]) * 100\n",
    "AgevsLoan"
   ]
  },
  {
   "cell_type": "markdown",
   "metadata": {},
   "source": [
    "Our analysis indicates that seniors submitted the fewest loan applications (303) but had the highest approval rate (32.34%). Middle-aged adults demonstrated the highest application volume (9028) with a 26.75% approval rate. Youth exhibited the lowest approval rate at 11.63%."
   ]
  },
  {
   "cell_type": "code",
   "execution_count": 162,
   "metadata": {},
   "outputs": [
    {
     "data": {
      "text/plain": [
       "<Figure size 1000x600 with 0 Axes>"
      ]
     },
     "metadata": {},
     "output_type": "display_data"
    },
    {
     "data": {
      "image/png": "[encoded data removed]",
      "text/plain": [
       "<Figure size 640x480 with 1 Axes>"
      ]
     },
     "metadata": {},
     "output_type": "display_data"
    }
   ],
   "source": [
    "plt.figure(figsize=(10, 6))  \n",
    "AgevsLoan[[0, 1]].plot(kind='bar', stacked=True, color=['#43a2ca', '#8856a7']) \n",
    "plt.xlabel('Age Group')\n",
    "plt.ylabel('Applications')\n",
    "plt.title('Loan Approval by Age Category')\n",
    "plt.legend(title='Approval Rate')\n",
    "plt.xticks(rotation=45, ha='right')  \n",
    "plt.show()"
   ]
  },
  {
   "cell_type": "markdown",
   "metadata": {},
   "source": [
    "### Are these results statistically significant? \n",
    "\n",
    "We perfom statistical tests to check if the results above are statistically significant, or due to sampling errors. \n",
    "\n",
    "P-value treshold: 5% \n",
    "\n",
    "H0: 'The age of the applicant has no impact on loan applroval' \n",
    "\n",
    "H1: 'The age of the applicant significantly impacts loan applroval'"
   ]
  },
  {
   "cell_type": "code",
   "execution_count": 153,
   "metadata": {},
   "outputs": [
    {
     "data": {
      "text/html": [
       "<div>\n",
       "<style scoped>\n",
       "    .dataframe tbody tr th:only-of-type {\n",
       "        vertical-align: middle;\n",
       "    }\n",
       "\n",
       "    .dataframe tbody tr th {\n",
       "        vertical-align: top;\n",
       "    }\n",
       "\n",
       "    .dataframe thead th {\n",
       "        text-align: right;\n",
       "    }\n",
       "</style>\n",
       "<table border=\"1\" class=\"dataframe\">\n",
       "  <thead>\n",
       "    <tr style=\"text-align: right;\">\n",
       "      <th>LoanApproved</th>\n",
       "      <th>0</th>\n",
       "      <th>1</th>\n",
       "    </tr>\n",
       "    <tr>\n",
       "      <th>AgeGroup</th>\n",
       "      <th></th>\n",
       "      <th></th>\n",
       "    </tr>\n",
       "  </thead>\n",
       "  <tbody>\n",
       "    <tr>\n",
       "      <th>Youth</th>\n",
       "      <td>2105</td>\n",
       "      <td>277</td>\n",
       "    </tr>\n",
       "    <tr>\n",
       "      <th>Young adults</th>\n",
       "      <td>3994</td>\n",
       "      <td>968</td>\n",
       "    </tr>\n",
       "    <tr>\n",
       "      <th>Middle-aged adults</th>\n",
       "      <td>6613</td>\n",
       "      <td>2415</td>\n",
       "    </tr>\n",
       "    <tr>\n",
       "      <th>Older adults</th>\n",
       "      <td>2303</td>\n",
       "      <td>1022</td>\n",
       "    </tr>\n",
       "    <tr>\n",
       "      <th>Seniors</th>\n",
       "      <td>205</td>\n",
       "      <td>98</td>\n",
       "    </tr>\n",
       "  </tbody>\n",
       "</table>\n",
       "</div>"
      ],
      "text/plain": [
       "LoanApproved           0     1\n",
       "AgeGroup                      \n",
       "Youth               2105   277\n",
       "Young adults        3994   968\n",
       "Middle-aged adults  6613  2415\n",
       "Older adults        2303  1022\n",
       "Seniors              205    98"
      ]
     },
     "execution_count": 153,
     "metadata": {},
     "output_type": "execute_result"
    }
   ],
   "source": [
    "AgeTable = pd.crosstab(data['AgeGroup'], data['LoanApproved'])\n",
    "AgeTable"
   ]
  },
  {
   "cell_type": "code",
   "execution_count": 50,
   "metadata": {},
   "outputs": [],
   "source": [
    "from scipy.stats import chi2_contingency"
   ]
  },
  {
   "cell_type": "code",
   "execution_count": 155,
   "metadata": {},
   "outputs": [
    {
     "name": "stdout",
     "output_type": "stream",
     "text": [
      "chi-square Statistic:  387.47772727111476\n",
      "p-value:  1.411670126329479e-82\n",
      "Expected frequencies: \n",
      "[[1812.702  569.298]\n",
      " [3776.082 1185.918]\n",
      " [6870.308 2157.692]\n",
      " [2530.325  794.675]\n",
      " [ 230.583   72.417]]\n"
     ]
    }
   ],
   "source": [
    "chi2, pval, dof, expected = chi2_contingency(AgeTable)\n",
    "print('chi-square Statistic: ', chi2)\n",
    "print('p-value: ', pval)\n",
    "print('Expected frequencies: ')\n",
    "print(expected)"
   ]
  },
  {
   "cell_type": "markdown",
   "metadata": {},
   "source": [
    "The test results indicate that there is a statistically significant association between age group and loan approval. This suggests that age is a factor influencing loan approval decisions"
   ]
  },
  {
   "cell_type": "markdown",
   "metadata": {},
   "source": [
    "### Employement"
   ]
  },
  {
   "cell_type": "code",
   "execution_count": null,
   "metadata": {},
   "outputs": [
    {
     "data": {
      "text/html": [
       "<div>\n",
       "<style scoped>\n",
       "    .dataframe tbody tr th:only-of-type {\n",
       "        vertical-align: middle;\n",
       "    }\n",
       "\n",
       "    .dataframe tbody tr th {\n",
       "        vertical-align: top;\n",
       "    }\n",
       "\n",
       "    .dataframe thead th {\n",
       "        text-align: right;\n",
       "    }\n",
       "</style>\n",
       "<table border=\"1\" class=\"dataframe\">\n",
       "  <thead>\n",
       "    <tr style=\"text-align: right;\">\n",
       "      <th>LoanApproved</th>\n",
       "      <th>0</th>\n",
       "      <th>1</th>\n",
       "      <th>TotalApplications</th>\n",
       "      <th>ApprovalPercentage</th>\n",
       "    </tr>\n",
       "    <tr>\n",
       "      <th>EmploymentStatus</th>\n",
       "      <th></th>\n",
       "      <th></th>\n",
       "      <th></th>\n",
       "      <th></th>\n",
       "    </tr>\n",
       "  </thead>\n",
       "  <tbody>\n",
       "    <tr>\n",
       "      <th>Employed</th>\n",
       "      <td>12947</td>\n",
       "      <td>4089</td>\n",
       "      <td>17036</td>\n",
       "      <td>24.002113</td>\n",
       "    </tr>\n",
       "    <tr>\n",
       "      <th>Self-Employed</th>\n",
       "      <td>1135</td>\n",
       "      <td>438</td>\n",
       "      <td>1573</td>\n",
       "      <td>27.844882</td>\n",
       "    </tr>\n",
       "    <tr>\n",
       "      <th>Unemployed</th>\n",
       "      <td>1138</td>\n",
       "      <td>253</td>\n",
       "      <td>1391</td>\n",
       "      <td>18.188354</td>\n",
       "    </tr>\n",
       "  </tbody>\n",
       "</table>\n",
       "</div>"
      ],
      "text/plain": [
       "LoanApproved          0     1  TotalApplications  ApprovalPercentage\n",
       "EmploymentStatus                                                    \n",
       "Employed          12947  4089              17036           24.002113\n",
       "Self-Employed      1135   438               1573           27.844882\n",
       "Unemployed         1138   253               1391           18.188354"
      ]
     },
     "execution_count": 47,
     "metadata": {},
     "output_type": "execute_result"
    }
   ],
   "source": [
    "EmpvsLoan = data[['EmploymentStatus', 'LoanApproved']]\n",
    "EmpvsLoan = EmpvsLoan.groupby('EmploymentStatus')['LoanApproved'].value_counts().unstack()\n",
    "EmpvsLoan['TotalApplications'] = EmpvsLoan[0] + EmpvsLoan[1]\n",
    "EmpvsLoan['ApprovalPercentage'] = EmpvsLoan[1] / (EmpvsLoan[0] + EmpvsLoan[1]) * 100\n",
    "EmpvsLoan"
   ]
  },
  {
   "cell_type": "markdown",
   "metadata": {},
   "source": [
    "Self-employed individuals exhibited the highest loan approval rate (27.84%), while employed individuals submitted the most applications but had a lower approval rate of 24%. Unemployed individuals had the lowest approval rate at 18.18%."
   ]
  },
  {
   "cell_type": "markdown",
   "metadata": {},
   "source": [
    "P-value treshold: 5% \n",
    "\n",
    "H0: 'Employement status of the applicant has no impact on loan applroval' \n",
    "\n",
    "H1: 'Employement status of the applicant significantly impacts loan applroval'"
   ]
  },
  {
   "cell_type": "code",
   "execution_count": null,
   "metadata": {},
   "outputs": [
    {
     "data": {
      "text/html": [
       "<div>\n",
       "<style scoped>\n",
       "    .dataframe tbody tr th:only-of-type {\n",
       "        vertical-align: middle;\n",
       "    }\n",
       "\n",
       "    .dataframe tbody tr th {\n",
       "        vertical-align: top;\n",
       "    }\n",
       "\n",
       "    .dataframe thead th {\n",
       "        text-align: right;\n",
       "    }\n",
       "</style>\n",
       "<table border=\"1\" class=\"dataframe\">\n",
       "  <thead>\n",
       "    <tr style=\"text-align: right;\">\n",
       "      <th>LoanApproved</th>\n",
       "      <th>0</th>\n",
       "      <th>1</th>\n",
       "    </tr>\n",
       "    <tr>\n",
       "      <th>EmploymentStatus</th>\n",
       "      <th></th>\n",
       "      <th></th>\n",
       "    </tr>\n",
       "  </thead>\n",
       "  <tbody>\n",
       "    <tr>\n",
       "      <th>Employed</th>\n",
       "      <td>12947</td>\n",
       "      <td>4089</td>\n",
       "    </tr>\n",
       "    <tr>\n",
       "      <th>Self-Employed</th>\n",
       "      <td>1135</td>\n",
       "      <td>438</td>\n",
       "    </tr>\n",
       "    <tr>\n",
       "      <th>Unemployed</th>\n",
       "      <td>1138</td>\n",
       "      <td>253</td>\n",
       "    </tr>\n",
       "  </tbody>\n",
       "</table>\n",
       "</div>"
      ],
      "text/plain": [
       "LoanApproved          0     1\n",
       "EmploymentStatus             \n",
       "Employed          12947  4089\n",
       "Self-Employed      1135   438\n",
       "Unemployed         1138   253"
      ]
     },
     "execution_count": 98,
     "metadata": {},
     "output_type": "execute_result"
    }
   ],
   "source": [
    "EmployementCrossTab = pd.crosstab(data.EmploymentStatus, data.LoanApproved)\n"
   ]
  },
  {
   "cell_type": "code",
   "execution_count": 128,
   "metadata": {},
   "outputs": [
    {
     "name": "stdout",
     "output_type": "stream",
     "text": [
      "chi-square Statistic:  38.506519961609214\n",
      "p-value:  4.349260610875047e-09\n",
      "Expected frequencies: \n",
      "[[12964.396  4071.604]\n",
      " [ 1197.053   375.947]\n",
      " [ 1058.551   332.449]]\n"
     ]
    }
   ],
   "source": [
    "chi2_1, pval_1, dof_1, expected_1 = chi2_contingency(EmployementCrossTab)\n",
    "print('chi-square Statistic: ', chi2_1)\n",
    "print('p-value: ', pval_1)\n",
    "print('Expected frequencies: ')\n",
    "print(expected_1)"
   ]
  },
  {
   "cell_type": "markdown",
   "metadata": {},
   "source": [
    "According to tests results, we can reject the null hypothesis and accept the alternative one. The employement status has a significant impact on wether the loan application is approved or not."
   ]
  },
  {
   "cell_type": "markdown",
   "metadata": {},
   "source": [
    "### Marital status"
   ]
  },
  {
   "cell_type": "code",
   "execution_count": 48,
   "metadata": {},
   "outputs": [
    {
     "data": {
      "text/html": [
       "<div>\n",
       "<style scoped>\n",
       "    .dataframe tbody tr th:only-of-type {\n",
       "        vertical-align: middle;\n",
       "    }\n",
       "\n",
       "    .dataframe tbody tr th {\n",
       "        vertical-align: top;\n",
       "    }\n",
       "\n",
       "    .dataframe thead th {\n",
       "        text-align: right;\n",
       "    }\n",
       "</style>\n",
       "<table border=\"1\" class=\"dataframe\">\n",
       "  <thead>\n",
       "    <tr style=\"text-align: right;\">\n",
       "      <th>LoanApproved</th>\n",
       "      <th>0</th>\n",
       "      <th>1</th>\n",
       "      <th>TotalApplications</th>\n",
       "      <th>ApprovalPercentage</th>\n",
       "    </tr>\n",
       "    <tr>\n",
       "      <th>MaritalStatus</th>\n",
       "      <th></th>\n",
       "      <th></th>\n",
       "      <th></th>\n",
       "      <th></th>\n",
       "    </tr>\n",
       "  </thead>\n",
       "  <tbody>\n",
       "    <tr>\n",
       "      <th>Divorced</th>\n",
       "      <td>2176</td>\n",
       "      <td>706</td>\n",
       "      <td>2882</td>\n",
       "      <td>24.496877</td>\n",
       "    </tr>\n",
       "    <tr>\n",
       "      <th>Married</th>\n",
       "      <td>7646</td>\n",
       "      <td>2395</td>\n",
       "      <td>10041</td>\n",
       "      <td>23.852206</td>\n",
       "    </tr>\n",
       "    <tr>\n",
       "      <th>Single</th>\n",
       "      <td>4623</td>\n",
       "      <td>1455</td>\n",
       "      <td>6078</td>\n",
       "      <td>23.938796</td>\n",
       "    </tr>\n",
       "    <tr>\n",
       "      <th>Widowed</th>\n",
       "      <td>775</td>\n",
       "      <td>224</td>\n",
       "      <td>999</td>\n",
       "      <td>22.422422</td>\n",
       "    </tr>\n",
       "  </tbody>\n",
       "</table>\n",
       "</div>"
      ],
      "text/plain": [
       "LoanApproved      0     1  TotalApplications  ApprovalPercentage\n",
       "MaritalStatus                                                   \n",
       "Divorced       2176   706               2882           24.496877\n",
       "Married        7646  2395              10041           23.852206\n",
       "Single         4623  1455               6078           23.938796\n",
       "Widowed         775   224                999           22.422422"
      ]
     },
     "execution_count": 48,
     "metadata": {},
     "output_type": "execute_result"
    }
   ],
   "source": [
    "maritalSt = data[['MaritalStatus', 'LoanApproved']]\n",
    "maritalSt = maritalSt.groupby('MaritalStatus')['LoanApproved'].value_counts().unstack()\n",
    "maritalSt['TotalApplications'] = maritalSt[0] + maritalSt[1]\n",
    "maritalSt['ApprovalPercentage'] = maritalSt[1] / (maritalSt[0] + maritalSt[1]) * 100\n",
    "maritalSt"
   ]
  },
  {
   "cell_type": "markdown",
   "metadata": {},
   "source": [
    "We found no significant difference in loan approval rates among divorced(24.50%), married(23.85%), single(23.94%) and widowed(22.42%) individuals."
   ]
  },
  {
   "cell_type": "markdown",
   "metadata": {},
   "source": [
    "P-value treshold: 5% \n",
    "\n",
    "H0: 'Marital status of the applicant has no impact on loan applroval' \n",
    "\n",
    "H1: 'Marital status of the applicant significantly impacts loan applroval'"
   ]
  },
  {
   "cell_type": "code",
   "execution_count": 129,
   "metadata": {},
   "outputs": [],
   "source": [
    "MaritalCrossTab = pd.crosstab(data.MaritalStatus, data.LoanApproved)"
   ]
  },
  {
   "cell_type": "code",
   "execution_count": 130,
   "metadata": {},
   "outputs": [
    {
     "name": "stdout",
     "output_type": "stream",
     "text": [
      "chi-square Statistic:  1.781340751519077\n",
      "p-value:  0.6190037909522508\n",
      "Expected frequencies: \n",
      "[[2193.202  688.798]\n",
      " [7641.201 2399.799]\n",
      " [4625.358 1452.642]\n",
      " [ 760.239  238.761]]\n"
     ]
    }
   ],
   "source": [
    "chi2_2, pval_2, dof_2, expected_2 = chi2_contingency(MaritalCrossTab)\n",
    "print('chi-square Statistic: ', chi2_2)\n",
    "print('p-value: ', pval_2)\n",
    "print('Expected frequencies: ')\n",
    "print(expected_2)"
   ]
  },
  {
   "cell_type": "markdown",
   "metadata": {},
   "source": [
    "The p-value is above our treshold and the chi-square statistic is too low, So we can accept the null hypothesis.\n",
    "Marital status is not a significant factor in loan approval."
   ]
  },
  {
   "cell_type": "markdown",
   "metadata": {},
   "source": [
    "### Education"
   ]
  },
  {
   "cell_type": "code",
   "execution_count": 49,
   "metadata": {},
   "outputs": [
    {
     "data": {
      "text/html": [
       "<div>\n",
       "<style scoped>\n",
       "    .dataframe tbody tr th:only-of-type {\n",
       "        vertical-align: middle;\n",
       "    }\n",
       "\n",
       "    .dataframe tbody tr th {\n",
       "        vertical-align: top;\n",
       "    }\n",
       "\n",
       "    .dataframe thead th {\n",
       "        text-align: right;\n",
       "    }\n",
       "</style>\n",
       "<table border=\"1\" class=\"dataframe\">\n",
       "  <thead>\n",
       "    <tr style=\"text-align: right;\">\n",
       "      <th>LoanApproved</th>\n",
       "      <th>0</th>\n",
       "      <th>1</th>\n",
       "      <th>TotalApplications</th>\n",
       "      <th>ApprovalPercentage</th>\n",
       "    </tr>\n",
       "    <tr>\n",
       "      <th>EducationLevel</th>\n",
       "      <th></th>\n",
       "      <th></th>\n",
       "      <th></th>\n",
       "      <th></th>\n",
       "    </tr>\n",
       "  </thead>\n",
       "  <tbody>\n",
       "    <tr>\n",
       "      <th>Associate</th>\n",
       "      <td>3210</td>\n",
       "      <td>824</td>\n",
       "      <td>4034</td>\n",
       "      <td>20.426376</td>\n",
       "    </tr>\n",
       "    <tr>\n",
       "      <th>Bachelor</th>\n",
       "      <td>4441</td>\n",
       "      <td>1613</td>\n",
       "      <td>6054</td>\n",
       "      <td>26.643541</td>\n",
       "    </tr>\n",
       "    <tr>\n",
       "      <th>Doctorate</th>\n",
       "      <td>534</td>\n",
       "      <td>420</td>\n",
       "      <td>954</td>\n",
       "      <td>44.025157</td>\n",
       "    </tr>\n",
       "    <tr>\n",
       "      <th>High School</th>\n",
       "      <td>5055</td>\n",
       "      <td>853</td>\n",
       "      <td>5908</td>\n",
       "      <td>14.438050</td>\n",
       "    </tr>\n",
       "    <tr>\n",
       "      <th>Master</th>\n",
       "      <td>1980</td>\n",
       "      <td>1070</td>\n",
       "      <td>3050</td>\n",
       "      <td>35.081967</td>\n",
       "    </tr>\n",
       "  </tbody>\n",
       "</table>\n",
       "</div>"
      ],
      "text/plain": [
       "LoanApproved       0     1  TotalApplications  ApprovalPercentage\n",
       "EducationLevel                                                   \n",
       "Associate       3210   824               4034           20.426376\n",
       "Bachelor        4441  1613               6054           26.643541\n",
       "Doctorate        534   420                954           44.025157\n",
       "High School     5055   853               5908           14.438050\n",
       "Master          1980  1070               3050           35.081967"
      ]
     },
     "execution_count": 49,
     "metadata": {},
     "output_type": "execute_result"
    }
   ],
   "source": [
    "Education = data[['EducationLevel', 'LoanApproved']]\n",
    "Education = Education.groupby('EducationLevel')['LoanApproved'].value_counts().unstack()\n",
    "Education['TotalApplications'] = Education[0] + Education[1]\n",
    "Education['ApprovalPercentage'] = Education[1] / (Education[0] + Education[1]) * 100\n",
    "Education"
   ]
  },
  {
   "cell_type": "markdown",
   "metadata": {},
   "source": [
    "We can clearly see that the higher the education level is, the higher is the loan approval rate. People with a doctorate have an approval rate of 44%, while people with a high school level have a approval rate of  14.44%"
   ]
  },
  {
   "cell_type": "markdown",
   "metadata": {},
   "source": [
    "P-value treshold: 5% \n",
    "\n",
    "H0: 'The education level of the applicant has no impact on loan applroval' \n",
    "\n",
    "H1: 'The education level of the applicant significantly impacts loan applroval'"
   ]
  },
  {
   "cell_type": "code",
   "execution_count": 131,
   "metadata": {},
   "outputs": [],
   "source": [
    "EducationCrossTab = pd.crosstab(data.EducationLevel, data.LoanApproved)"
   ]
  },
  {
   "cell_type": "code",
   "execution_count": 132,
   "metadata": {},
   "outputs": [
    {
     "name": "stdout",
     "output_type": "stream",
     "text": [
      "chi-square Statistic:  764.7553445721173\n",
      "p-value:  3.3045607434476096e-164\n",
      "Expected frequencies: \n",
      "[[3069.874  964.126]\n",
      " [4607.094 1446.906]\n",
      " [ 725.994  228.006]\n",
      " [4495.988 1412.012]\n",
      " [2321.05   728.95 ]]\n"
     ]
    }
   ],
   "source": [
    "chi2_3, pval_3, dof_3, expected_3 = chi2_contingency(EducationCrossTab)\n",
    "print('chi-square Statistic: ', chi2_3)\n",
    "print('p-value: ', pval_3)\n",
    "print('Expected frequencies: ')\n",
    "print(expected_3)"
   ]
  },
  {
   "cell_type": "markdown",
   "metadata": {},
   "source": [
    "Given the extremely low p-value and high chi-square Statistic, we can confidently reject the null hypothesis. This means that there is a strong statistical evidence to suggest that education level significantly impacts loan approval decisions."
   ]
  },
  {
   "cell_type": "markdown",
   "metadata": {},
   "source": [
    "### Yearly income"
   ]
  },
  {
   "cell_type": "code",
   "execution_count": null,
   "metadata": {},
   "outputs": [
    {
     "data": {
      "text/plain": [
       "LoanApproved\n",
       "0     45641.460907\n",
       "1    102210.551464\n",
       "Name: AnnualIncome, dtype: float64"
      ]
     },
     "execution_count": 52,
     "metadata": {},
     "output_type": "execute_result"
    }
   ],
   "source": [
    "YearlyIncome = data[['AnnualIncome', 'LoanApproved']]\n",
    "YearlyIncome = YearlyIncome.groupby('LoanApproved')['AnnualIncome'].mean()\n",
    "YearlyIncome"
   ]
  },
  {
   "cell_type": "code",
   "execution_count": 55,
   "metadata": {},
   "outputs": [
    {
     "data": {
      "image/png": "[encoded data removed]",
      "text/plain": [
       "<Figure size 640x480 with 1 Axes>"
      ]
     },
     "metadata": {},
     "output_type": "display_data"
    }
   ],
   "source": [
    "sns.boxplot(x='LoanApproved', y='AnnualIncome', data=data)\n",
    "plt.xlabel('Loan Approval')\n",
    "plt.ylabel('Average Yearly Income')\n",
    "plt.title('Loan Approval vs Average Yearly Income')\n",
    "plt.show()"
   ]
  },
  {
   "cell_type": "markdown",
   "metadata": {},
   "source": [
    "A notable disparity in average yearly income was observed between approved and refused loan applications. Approved applicants had an average income of 102,210.55, while refused applicants had an average income of 45,641.46"
   ]
  },
  {
   "cell_type": "markdown",
   "metadata": {},
   "source": [
    "P-value treshold: 5% \n",
    "\n",
    "H0: 'The yearly income of the applicant has no impact on loan applroval' \n",
    "\n",
    "H1: 'The yearly income of the applicant significantly impacts loan applroval'"
   ]
  },
  {
   "cell_type": "code",
   "execution_count": 103,
   "metadata": {},
   "outputs": [],
   "source": [
    "Income_approved = data[data['LoanApproved']==1]['AnnualIncome']\n",
    "Income_notapproved = data[data['LoanApproved']==0]['AnnualIncome']"
   ]
  },
  {
   "cell_type": "code",
   "execution_count": null,
   "metadata": {},
   "outputs": [],
   "source": [
    "import scipy.stats as stats\n",
    "t_stat_4, p_value_4 = stats.ttest_ind(Income_approved, Income_notapproved)"
   ]
  },
  {
   "cell_type": "code",
   "execution_count": 135,
   "metadata": {},
   "outputs": [
    {
     "name": "stdout",
     "output_type": "stream",
     "text": [
      "T-statistic  105.48245401075667\n",
      "P-value:  0.0\n"
     ]
    }
   ],
   "source": [
    "print('T-statistic ', t_stat_4)\n",
    "print('P-value: ', p_value_4)"
   ]
  },
  {
   "cell_type": "markdown",
   "metadata": {},
   "source": [
    "Given the extremely low p-value, we can confidently reject the null hypothesis. This means that there is a strong statistical evidence to suggest that annual income significantly impacts loan approval decisions. The high T-statistic shows that individuals with higher annual incomes are more likely to be approved for loans."
   ]
  },
  {
   "cell_type": "markdown",
   "metadata": {},
   "source": [
    "# Loan Characteristics:"
   ]
  },
  {
   "cell_type": "markdown",
   "metadata": {},
   "source": [
    "### Loan amount"
   ]
  },
  {
   "cell_type": "code",
   "execution_count": 65,
   "metadata": {},
   "outputs": [
    {
     "data": {
      "text/plain": [
       "LoanApproved\n",
       "0    26684.996386\n",
       "1    19144.709414\n",
       "Name: LoanAmount, dtype: float64"
      ]
     },
     "execution_count": 65,
     "metadata": {},
     "output_type": "execute_result"
    }
   ],
   "source": [
    "Amount = data[['LoanAmount', 'LoanApproved']]\n",
    "Amount = Amount.groupby('LoanApproved')['LoanAmount'].mean()\n",
    "Amount"
   ]
  },
  {
   "cell_type": "code",
   "execution_count": 66,
   "metadata": {},
   "outputs": [
    {
     "name": "stderr",
     "output_type": "stream",
     "text": [
      "C:\\Users\\hp\\AppData\\Local\\Temp\\ipykernel_3484\\3840632822.py:1: FutureWarning: \n",
      "\n",
      "The `ci` parameter is deprecated. Use `errorbar=None` for the same effect.\n",
      "\n",
      "  sns.barplot(x='LoanApproved', y='LoanAmount', data= data, ci=None)\n"
     ]
    },
    {
     "data": {
      "image/png": "[encoded data removed]",
      "text/plain": [
       "<Figure size 640x480 with 1 Axes>"
      ]
     },
     "metadata": {},
     "output_type": "display_data"
    }
   ],
   "source": [
    "sns.barplot(x='LoanApproved', y='LoanAmount', data= data, ci=None)\n",
    "plt.show()"
   ]
  },
  {
   "cell_type": "markdown",
   "metadata": {},
   "source": [
    "Accepted loan applications tend to be of smaller amounts, compared to declined ones"
   ]
  },
  {
   "cell_type": "markdown",
   "metadata": {},
   "source": [
    "P-value treshold: 5% \n",
    "\n",
    "H0: 'The amount of the loan has no impact on loan applroval' \n",
    "\n",
    "H1: 'The amount of the loan significantly impacts loan applroval'"
   ]
  },
  {
   "cell_type": "code",
   "execution_count": 157,
   "metadata": {},
   "outputs": [],
   "source": [
    "Amount_approved = data[data['LoanApproved']==1]['LoanAmount']\n",
    "Amount_notapproved = data[data['LoanApproved']==0]['LoanAmount']"
   ]
  },
  {
   "cell_type": "code",
   "execution_count": 160,
   "metadata": {},
   "outputs": [],
   "source": [
    "t_stat_6, p_value_6 = stats.ttest_ind(Amount_approved, Amount_notapproved)"
   ]
  },
  {
   "cell_type": "code",
   "execution_count": 161,
   "metadata": {},
   "outputs": [
    {
     "name": "stdout",
     "output_type": "stream",
     "text": [
      "T-statistic  -34.88327980913309\n",
      "P-value:  7.325161540913135e-259\n"
     ]
    }
   ],
   "source": [
    "print('T-statistic ', t_stat_6)\n",
    "print('P-value: ', p_value_6)"
   ]
  },
  {
   "cell_type": "markdown",
   "metadata": {},
   "source": [
    "The extremely low p-value provides strong statistical evidence to reject the null hypothesis. This suggests a significant relationship between loan amount and approval decisions. The negative T-statistic indicates that loans with smaller amounts are more likely to be approved."
   ]
  },
  {
   "cell_type": "markdown",
   "metadata": {},
   "source": [
    "### Interest rate"
   ]
  },
  {
   "cell_type": "code",
   "execution_count": 71,
   "metadata": {},
   "outputs": [
    {
     "name": "stdout",
     "output_type": "stream",
     "text": [
      "0.23911001653328232\n"
     ]
    },
    {
     "data": {
      "text/plain": [
       "LoanApproved\n",
       "0    0.246244\n",
       "1    0.216393\n",
       "Name: InterestRate, dtype: float64"
      ]
     },
     "execution_count": 71,
     "metadata": {},
     "output_type": "execute_result"
    }
   ],
   "source": [
    "print(data.InterestRate.mean())\n",
    "InterestR = data[['InterestRate', 'LoanApproved']]\n",
    "InterestR = InterestR.groupby('LoanApproved')['InterestRate'].mean()\n",
    "InterestR"
   ]
  },
  {
   "cell_type": "markdown",
   "metadata": {},
   "source": [
    "Our analysis reveals an interesting trend in interest rates. While the overall average interest rate stands at 0.2391, a notable distinction emerges between accepted and declined loan applications. Accepted loans exhibit a lower average interest rate of 0.216393, whereas declined loans tend to have a higher average interest rate of 0.246244. These findings suggest that a lower interest rate may be a significant factor in loan approval decisions."
   ]
  },
  {
   "cell_type": "markdown",
   "metadata": {},
   "source": [
    "P-value treshold: 5% \n",
    "\n",
    "H0: 'The interest rate has no impact on loan applroval' \n",
    "\n",
    "H1: 'The interest rate significantly impacts loan applroval'"
   ]
  },
  {
   "cell_type": "code",
   "execution_count": 114,
   "metadata": {},
   "outputs": [],
   "source": [
    "IR_approved = data[data['LoanApproved']==1]['InterestRate']\n",
    "IR_notapproved = data[data['LoanApproved']==0]['InterestRate']"
   ]
  },
  {
   "cell_type": "code",
   "execution_count": 156,
   "metadata": {},
   "outputs": [
    {
     "name": "stdout",
     "output_type": "stream",
     "text": [
      "T-statistic  -44.741056556834685\n",
      "P-value:  0.0\n"
     ]
    }
   ],
   "source": [
    "t_stat_7, p_value_7 = stats.ttest_ind(IR_approved, IR_notapproved)\n",
    "print('T-statistic ', t_stat_7)\n",
    "print('P-value: ', p_value_7)"
   ]
  },
  {
   "cell_type": "markdown",
   "metadata": {},
   "source": [
    "The extremely low p-value provides strong statistical evidence to reject the null hypothesis. This suggests a significant negative relationship between interest rate and loan approval. The negative T-statistic indicates that loans with lower interest rates are more likely to be approved."
   ]
  },
  {
   "cell_type": "markdown",
   "metadata": {},
   "source": [
    "### Loan duration "
   ]
  },
  {
   "cell_type": "code",
   "execution_count": 73,
   "metadata": {},
   "outputs": [
    {
     "name": "stdout",
     "output_type": "stream",
     "text": [
      "54.057\n"
     ]
    },
    {
     "data": {
      "text/plain": [
       "LoanApproved\n",
       "0    55.363995\n",
       "1    49.895397\n",
       "Name: LoanDuration, dtype: float64"
      ]
     },
     "execution_count": 73,
     "metadata": {},
     "output_type": "execute_result"
    }
   ],
   "source": [
    "print(data.LoanDuration.mean())\n",
    "duration = data[['LoanDuration', 'LoanApproved']]\n",
    "duration = duration.groupby('LoanApproved')['LoanDuration'].mean()\n",
    "duration"
   ]
  },
  {
   "cell_type": "markdown",
   "metadata": {},
   "source": [
    "Our analysis indicates that the average loan duration is 54 months. However, a noticeable difference exists between accepted and declined loan applications. Accepted loans tend to have shorter durations, averaging 49.89 months, while declined loans exhibit longer durations, averaging 55.36 months. This suggests that shorter loan terms may be more favorable for loan approval."
   ]
  },
  {
   "cell_type": "markdown",
   "metadata": {},
   "source": [
    "P-value treshold: 5% \n",
    "\n",
    "H0: 'The loan duration has no impact on loan applroval' \n",
    "\n",
    "H1: 'The loan duration significantly impacts loan applroval'"
   ]
  },
  {
   "cell_type": "code",
   "execution_count": 120,
   "metadata": {},
   "outputs": [],
   "source": [
    "duration_approved = data[data['LoanApproved']==1]['LoanDuration']\n",
    "duration_notapproved = data[data['LoanApproved']==0]['LoanDuration']"
   ]
  },
  {
   "cell_type": "code",
   "execution_count": 142,
   "metadata": {},
   "outputs": [
    {
     "name": "stdout",
     "output_type": "stream",
     "text": [
      "T-statistic  -13.432073529171243\n",
      "P-value:  5.904813377376777e-41\n"
     ]
    }
   ],
   "source": [
    "t_stat_8, p_value_8 = stats.ttest_ind(duration_approved, duration_notapproved)\n",
    "print('T-statistic ', t_stat_8)\n",
    "print('P-value: ', p_value_8)"
   ]
  },
  {
   "cell_type": "markdown",
   "metadata": {},
   "source": [
    "The remarkably low p-value suggests that we can reject the null hypothesis and accept the alternative one. The duration of the loan has a significant impact on its approval. The negative T-statistic suggests that Loans of shorter durations are more likely to be accepted."
   ]
  },
  {
   "cell_type": "markdown",
   "metadata": {},
   "source": [
    "### Creditworthiness Variables:"
   ]
  },
  {
   "cell_type": "markdown",
   "metadata": {},
   "source": [
    "### Credit score"
   ]
  },
  {
   "cell_type": "code",
   "execution_count": 46,
   "metadata": {},
   "outputs": [
    {
     "data": {
      "text/plain": [
       "LoanApproved\n",
       "0    567.554205\n",
       "1    584.534100\n",
       "Name: CreditScore, dtype: float64"
      ]
     },
     "execution_count": 46,
     "metadata": {},
     "output_type": "execute_result"
    }
   ],
   "source": [
    "CreditS = data[['CreditScore', 'LoanApproved']]\n",
    "CreditS = CreditS.groupby('LoanApproved')['CreditScore'].mean()\n",
    "CreditS"
   ]
  },
  {
   "cell_type": "code",
   "execution_count": 47,
   "metadata": {},
   "outputs": [
    {
     "data": {
      "image/png": "[encoded data removed]",
      "text/plain": [
       "<Figure size 640x480 with 1 Axes>"
      ]
     },
     "metadata": {},
     "output_type": "display_data"
    }
   ],
   "source": [
    "sns.boxplot(x='LoanApproved', y='CreditScore', data=data)\n",
    "plt.xlabel('Loan Approval')\n",
    "plt.ylabel('Credit Score')\n",
    "plt.title('Loan Approval vs Credit Score')\n",
    "plt.show()"
   ]
  },
  {
   "cell_type": "markdown",
   "metadata": {},
   "source": [
    "Our analysis indicates that individuals with approved loan applications tend to have slightly higher credit scores than those with declined applications. However, this difference doesn't appear to be substantial."
   ]
  },
  {
   "cell_type": "markdown",
   "metadata": {},
   "source": [
    "P-value treshold: 5% \n",
    "\n",
    "H0: 'The credit score has no impact on loan applroval' \n",
    "\n",
    "H1: 'The credit score significantly impacts loan applroval'"
   ]
  },
  {
   "cell_type": "code",
   "execution_count": 48,
   "metadata": {},
   "outputs": [],
   "source": [
    "CS_approved = data[data['LoanApproved']==1]['CreditScore']\n",
    "CS_notapproved = data[data['LoanApproved']==0]['CreditScore']"
   ]
  },
  {
   "cell_type": "code",
   "execution_count": 53,
   "metadata": {},
   "outputs": [],
   "source": [
    "t_stat_5, p_value_5 = stats.ttest_ind(CS_approved, CS_notapproved)"
   ]
  },
  {
   "cell_type": "code",
   "execution_count": 54,
   "metadata": {},
   "outputs": [
    {
     "name": "stdout",
     "output_type": "stream",
     "text": [
      "T-statistic  20.286451236445867\n",
      "P-value:  1.3816662548786144e-90\n"
     ]
    }
   ],
   "source": [
    "print('T-statistic ', t_stat_5)\n",
    "print('P-value: ', p_value_5)"
   ]
  },
  {
   "cell_type": "markdown",
   "metadata": {},
   "source": [
    "Based on the statistical analysis, we can conclude that credit score is a significant factor influencing loan approval decisions. Individuals with higher credit scores are more likely to be approved for loans compared to those with lower credit scores."
   ]
  },
  {
   "cell_type": "markdown",
   "metadata": {},
   "source": [
    "### Monthly dept payements"
   ]
  },
  {
   "cell_type": "code",
   "execution_count": 74,
   "metadata": {},
   "outputs": [
    {
     "name": "stdout",
     "output_type": "stream",
     "text": [
      "454.2927\n"
     ]
    },
    {
     "data": {
      "text/plain": [
       "LoanApproved\n",
       "0    463.783180\n",
       "1    424.074059\n",
       "Name: MonthlyDebtPayments, dtype: float64"
      ]
     },
     "execution_count": 74,
     "metadata": {},
     "output_type": "execute_result"
    }
   ],
   "source": [
    "print(data.MonthlyDebtPayments.mean())\n",
    "MonthlyPayement = data[['MonthlyDebtPayments', 'LoanApproved']]\n",
    "MonthlyPayement = MonthlyPayement.groupby('LoanApproved')['MonthlyDebtPayments'].mean()\n",
    "MonthlyPayement"
   ]
  },
  {
   "cell_type": "markdown",
   "metadata": {},
   "source": [
    "On average, applicants with lower monthly debt payments are more likely to be approved for loans compared to those with higher monthly debt payments. This indicates that lenders may consider a lower debt burden as a positive factor in assessing loan applications."
   ]
  },
  {
   "cell_type": "markdown",
   "metadata": {},
   "source": [
    "P-value treshold: 5% \n",
    "\n",
    "H0: 'The Monthly Debt Payments have no impact on loan applroval' \n",
    "\n",
    "H1: 'The Monthly Debt Payments significantly impact loan applroval'"
   ]
  },
  {
   "cell_type": "code",
   "execution_count": 117,
   "metadata": {},
   "outputs": [],
   "source": [
    "Monthlypayement_approved = data[data['LoanApproved']==1]['MonthlyDebtPayments']\n",
    "Monthlypayement_notapproved = data[data['LoanApproved']==0]['MonthlyDebtPayments']"
   ]
  },
  {
   "cell_type": "code",
   "execution_count": 144,
   "metadata": {},
   "outputs": [
    {
     "name": "stdout",
     "output_type": "stream",
     "text": [
      "T-statistic  -9.98242879489941\n",
      "P-value:  2.0643201794445868e-23\n"
     ]
    }
   ],
   "source": [
    "t_stat_9, p_value_9 = stats.ttest_ind(Monthlypayement_approved, Monthlypayement_notapproved)\n",
    "print('T-statistic ', t_stat_9)\n",
    "print('P-value: ', p_value_9)"
   ]
  },
  {
   "cell_type": "markdown",
   "metadata": {},
   "source": [
    "Our statistical test confirms the previous findings, the small p-value validates that there is a relationship between the monthly dept payements and the loan approval. We can confidently reject the null hypothesis. The negative T-statistic confirms that individuals with lower monthly dept payements are more likely to secure loans."
   ]
  },
  {
   "cell_type": "markdown",
   "metadata": {},
   "source": [
    "### Total Debt To Income Ratio"
   ]
  },
  {
   "cell_type": "code",
   "execution_count": null,
   "metadata": {},
   "outputs": [
    {
     "data": {
      "text/plain": [
       "LoanApproved\n",
       "0    0.480130\n",
       "1    0.153987\n",
       "Name: TotalDebtToIncomeRatio, dtype: float64"
      ]
     },
     "execution_count": 75,
     "metadata": {},
     "output_type": "execute_result"
    }
   ],
   "source": [
    "DebtToIncomeRatio = data[['TotalDebtToIncomeRatio', 'LoanApproved']]\n",
    "DebtToIncomeRatio = DebtToIncomeRatio.groupby('LoanApproved')['TotalDebtToIncomeRatio'].mean()\n",
    "DebtToIncomeRatio"
   ]
  },
  {
   "cell_type": "markdown",
   "metadata": {},
   "source": [
    "Our analysis reveals a significant disparity in Debt-to-Income (DTI) ratios between accepted and declined loan applications. Accepted loans exhibit a significantly lower average DTI of 0.15, while declined loans have a substantially higher average DTI of 0.48. This finding underscores the importance of a lower DTI ratio in securing loan approval."
   ]
  },
  {
   "cell_type": "markdown",
   "metadata": {},
   "source": [
    "P-value treshold: 5% \n",
    "\n",
    "H0: 'The dept to income ratio has no impact on loan applroval' \n",
    "\n",
    "H1: 'The dept to income ratio significantly impacts loan applroval'"
   ]
  },
  {
   "cell_type": "code",
   "execution_count": 164,
   "metadata": {},
   "outputs": [],
   "source": [
    "DTIR_approved = data[data['LoanApproved']==1]['TotalDebtToIncomeRatio']\n",
    "DTIR_notapproved = data[data['LoanApproved']==0]['TotalDebtToIncomeRatio']"
   ]
  },
  {
   "cell_type": "code",
   "execution_count": 165,
   "metadata": {},
   "outputs": [
    {
     "name": "stdout",
     "output_type": "stream",
     "text": [
      "T-statistic  -63.64284105514982\n",
      "P-value:  0.0\n"
     ]
    }
   ],
   "source": [
    "t_stat_10, p_value_10= stats.ttest_ind(DTIR_approved, DTIR_notapproved)\n",
    "print('T-statistic ', t_stat_10)\n",
    "print('P-value: ', p_value_10)"
   ]
  },
  {
   "cell_type": "markdown",
   "metadata": {},
   "source": [
    "The extremely low p-value provides strong statistical evidence to reject the null hypothesis. This suggests a significant negative relationship between debt-to-income ratio and loan approval. The negative T-statistic indicates that loans with lower debt-to-income ratios are more likely to be approved."
   ]
  },
  {
   "cell_type": "markdown",
   "metadata": {},
   "source": [
    "# Conclusion:\n",
    "\n",
    "### Demographic factors influencing credit granting decisions:\n",
    "\n",
    "Our analysis revealed significant correlations between several demographic variables and the probability of granting credit.\n",
    "\n",
    "The results obtained indicate that age, professional status, level of education and annual income are robust determinants of the credit decision. The most favoured profiles are those of seniors, self-employed workers, people with high education levels and high incomes. Conversely, young people, the unemployed, people with low incomes and people with a lower education level have more difficulty obtaining credit.\n",
    "\n",
    "Our results also reveal no significant link between marital status and the credit decision.\n",
    "\n",
    "### Evaluation of Loan Characteristics and Creditworthiness impact on credit approval:\n",
    "\n",
    "The in-depth study of credit variables revealed statistically significant correlations with the probability of granting a loan.\n",
    "\n",
    "#### Loan characteristics: \n",
    "Our results indicate a monotonic negative relationship between the probability of granting and the loan amount, the interest rate and the loan duration. Smaller loans with preferential rates and shorter duration are associated with a lower perceived credit risk.\n",
    "\n",
    "\n",
    "### Repayment capacity: \n",
    "The applicant's repayment capacity, assessed through monthly payments, the debt-to-income ratio and the Credit score, also significantly influences the granting decision. Profiles with lower monthly payments and a lower debt-to-income ratio are preferred by lenders. While Individuals with a high credit score have a lower perceived risk of default, which translates into a significantly higher probability of acceptance.\n",
    "\n",
    "These results confirm the importance of quantitative credit risk assessment in the decision-making process of financial institutions. Credit scoring models used by banking institutions generally integrate these variables, thus making it possible to differentiate  between good and bad risks.\n"
   ]
  },
  {
   "cell_type": "markdown",
   "metadata": {},
   "source": [
    "# Predictions models"
   ]
  },
  {
   "cell_type": "markdown",
   "metadata": {},
   "source": [
    "## Credit characteristics-based model"
   ]
  },
  {
   "cell_type": "markdown",
   "metadata": {},
   "source": [
    "### Initial modeling attempts:"
   ]
  },
  {
   "cell_type": "code",
   "execution_count": 9,
   "metadata": {},
   "outputs": [],
   "source": [
    "from sklearn.linear_model import LogisticRegression\n",
    "from sklearn.model_selection import train_test_split\n",
    "from sklearn.metrics import accuracy_score, confusion_matrix, classification_report, roc_auc_score, roc_curve"
   ]
  },
  {
   "cell_type": "code",
   "execution_count": 38,
   "metadata": {},
   "outputs": [],
   "source": [
    "X = data[['LoanAmount', 'LoanDuration', 'InterestRate']]\n",
    "y = data['LoanApproved']"
   ]
  },
  {
   "cell_type": "code",
   "execution_count": 11,
   "metadata": {},
   "outputs": [],
   "source": [
    "X_train, X_test, y_train, y_test = train_test_split(X,y,test_size=0.3, random_state=42)"
   ]
  },
  {
   "cell_type": "code",
   "execution_count": 12,
   "metadata": {},
   "outputs": [
    {
     "data": {
      "text/html": [
       "<style>#sk-container-id-1 {\n",
       "  /* Definition of color scheme common for light and dark mode */\n",
       "  --sklearn-color-text: black;\n",
       "  --sklearn-color-line: gray;\n",
       "  /* Definition of color scheme for unfitted estimators */\n",
       "  --sklearn-color-unfitted-level-0: #fff5e6;\n",
       "  --sklearn-color-unfitted-level-1: #f6e4d2;\n",
       "  --sklearn-color-unfitted-level-2: #ffe0b3;\n",
       "  --sklearn-color-unfitted-level-3: chocolate;\n",
       "  /* Definition of color scheme for fitted estimators */\n",
       "  --sklearn-color-fitted-level-0: #f0f8ff;\n",
       "  --sklearn-color-fitted-level-1: #d4ebff;\n",
       "  --sklearn-color-fitted-level-2: #b3dbfd;\n",
       "  --sklearn-color-fitted-level-3: cornflowerblue;\n",
       "\n",
       "  /* Specific color for light theme */\n",
       "  --sklearn-color-text-on-default-background: var(--sg-text-color, var(--theme-code-foreground, var(--jp-content-font-color1, black)));\n",
       "  --sklearn-color-background: var(--sg-background-color, var(--theme-background, var(--jp-layout-color0, white)));\n",
       "  --sklearn-color-border-box: var(--sg-text-color, var(--theme-code-foreground, var(--jp-content-font-color1, black)));\n",
       "  --sklearn-color-icon: #696969;\n",
       "\n",
       "  @media (prefers-color-scheme: dark) {\n",
       "    /* Redefinition of color scheme for dark theme */\n",
       "    --sklearn-color-text-on-default-background: var(--sg-text-color, var(--theme-code-foreground, var(--jp-content-font-color1, white)));\n",
       "    --sklearn-color-background: var(--sg-background-color, var(--theme-background, var(--jp-layout-color0, #111)));\n",
       "    --sklearn-color-border-box: var(--sg-text-color, var(--theme-code-foreground, var(--jp-content-font-color1, white)));\n",
       "    --sklearn-color-icon: #878787;\n",
       "  }\n",
       "}\n",
       "\n",
       "#sk-container-id-1 {\n",
       "  color: var(--sklearn-color-text);\n",
       "}\n",
       "\n",
       "#sk-container-id-1 pre {\n",
       "  padding: 0;\n",
       "}\n",
       "\n",
       "#sk-container-id-1 input.sk-hidden--visually {\n",
       "  border: 0;\n",
       "  clip: rect(1px 1px 1px 1px);\n",
       "  clip: rect(1px, 1px, 1px, 1px);\n",
       "  height: 1px;\n",
       "  margin: -1px;\n",
       "  overflow: hidden;\n",
       "  padding: 0;\n",
       "  position: absolute;\n",
       "  width: 1px;\n",
       "}\n",
       "\n",
       "#sk-container-id-1 div.sk-dashed-wrapped {\n",
       "  border: 1px dashed var(--sklearn-color-line);\n",
       "  margin: 0 0.4em 0.5em 0.4em;\n",
       "  box-sizing: border-box;\n",
       "  padding-bottom: 0.4em;\n",
       "  background-color: var(--sklearn-color-background);\n",
       "}\n",
       "\n",
       "#sk-container-id-1 div.sk-container {\n",
       "  /* jupyter's `normalize.less` sets `[hidden] { display: none; }`\n",
       "     but bootstrap.min.css set `[hidden] { display: none !important; }`\n",
       "     so we also need the `!important` here to be able to override the\n",
       "     default hidden behavior on the sphinx rendered scikit-learn.org.\n",
       "     See: https://github.com/scikit-learn/scikit-learn/issues/21755 */\n",
       "  display: inline-block !important;\n",
       "  position: relative;\n",
       "}\n",
       "\n",
       "#sk-container-id-1 div.sk-text-repr-fallback {\n",
       "  display: none;\n",
       "}\n",
       "\n",
       "div.sk-parallel-item,\n",
       "div.sk-serial,\n",
       "div.sk-item {\n",
       "  /* draw centered vertical line to link estimators */\n",
       "  background-image: linear-gradient(var(--sklearn-color-text-on-default-background), var(--sklearn-color-text-on-default-background));\n",
       "  background-size: 2px 100%;\n",
       "  background-repeat: no-repeat;\n",
       "  background-position: center center;\n",
       "}\n",
       "\n",
       "/* Parallel-specific style estimator block */\n",
       "\n",
       "#sk-container-id-1 div.sk-parallel-item::after {\n",
       "  content: \"\";\n",
       "  width: 100%;\n",
       "  border-bottom: 2px solid var(--sklearn-color-text-on-default-background);\n",
       "  flex-grow: 1;\n",
       "}\n",
       "\n",
       "#sk-container-id-1 div.sk-parallel {\n",
       "  display: flex;\n",
       "  align-items: stretch;\n",
       "  justify-content: center;\n",
       "  background-color: var(--sklearn-color-background);\n",
       "  position: relative;\n",
       "}\n",
       "\n",
       "#sk-container-id-1 div.sk-parallel-item {\n",
       "  display: flex;\n",
       "  flex-direction: column;\n",
       "}\n",
       "\n",
       "#sk-container-id-1 div.sk-parallel-item:first-child::after {\n",
       "  align-self: flex-end;\n",
       "  width: 50%;\n",
       "}\n",
       "\n",
       "#sk-container-id-1 div.sk-parallel-item:last-child::after {\n",
       "  align-self: flex-start;\n",
       "  width: 50%;\n",
       "}\n",
       "\n",
       "#sk-container-id-1 div.sk-parallel-item:only-child::after {\n",
       "  width: 0;\n",
       "}\n",
       "\n",
       "/* Serial-specific style estimator block */\n",
       "\n",
       "#sk-container-id-1 div.sk-serial {\n",
       "  display: flex;\n",
       "  flex-direction: column;\n",
       "  align-items: center;\n",
       "  background-color: var(--sklearn-color-background);\n",
       "  padding-right: 1em;\n",
       "  padding-left: 1em;\n",
       "}\n",
       "\n",
       "\n",
       "/* Toggleable style: style used for estimator/Pipeline/ColumnTransformer box that is\n",
       "clickable and can be expanded/collapsed.\n",
       "- Pipeline and ColumnTransformer use this feature and define the default style\n",
       "- Estimators will overwrite some part of the style using the `sk-estimator` class\n",
       "*/\n",
       "\n",
       "/* Pipeline and ColumnTransformer style (default) */\n",
       "\n",
       "#sk-container-id-1 div.sk-toggleable {\n",
       "  /* Default theme specific background. It is overwritten whether we have a\n",
       "  specific estimator or a Pipeline/ColumnTransformer */\n",
       "  background-color: var(--sklearn-color-background);\n",
       "}\n",
       "\n",
       "/* Toggleable label */\n",
       "#sk-container-id-1 label.sk-toggleable__label {\n",
       "  cursor: pointer;\n",
       "  display: block;\n",
       "  width: 100%;\n",
       "  margin-bottom: 0;\n",
       "  padding: 0.5em;\n",
       "  box-sizing: border-box;\n",
       "  text-align: center;\n",
       "}\n",
       "\n",
       "#sk-container-id-1 label.sk-toggleable__label-arrow:before {\n",
       "  /* Arrow on the left of the label */\n",
       "  content: \"▸\";\n",
       "  float: left;\n",
       "  margin-right: 0.25em;\n",
       "  color: var(--sklearn-color-icon);\n",
       "}\n",
       "\n",
       "#sk-container-id-1 label.sk-toggleable__label-arrow:hover:before {\n",
       "  color: var(--sklearn-color-text);\n",
       "}\n",
       "\n",
       "/* Toggleable content - dropdown */\n",
       "\n",
       "#sk-container-id-1 div.sk-toggleable__content {\n",
       "  max-height: 0;\n",
       "  max-width: 0;\n",
       "  overflow: hidden;\n",
       "  text-align: left;\n",
       "  /* unfitted */\n",
       "  background-color: var(--sklearn-color-unfitted-level-0);\n",
       "}\n",
       "\n",
       "#sk-container-id-1 div.sk-toggleable__content.fitted {\n",
       "  /* fitted */\n",
       "  background-color: var(--sklearn-color-fitted-level-0);\n",
       "}\n",
       "\n",
       "#sk-container-id-1 div.sk-toggleable__content pre {\n",
       "  margin: 0.2em;\n",
       "  border-radius: 0.25em;\n",
       "  color: var(--sklearn-color-text);\n",
       "  /* unfitted */\n",
       "  background-color: var(--sklearn-color-unfitted-level-0);\n",
       "}\n",
       "\n",
       "#sk-container-id-1 div.sk-toggleable__content.fitted pre {\n",
       "  /* unfitted */\n",
       "  background-color: var(--sklearn-color-fitted-level-0);\n",
       "}\n",
       "\n",
       "#sk-container-id-1 input.sk-toggleable__control:checked~div.sk-toggleable__content {\n",
       "  /* Expand drop-down */\n",
       "  max-height: 200px;\n",
       "  max-width: 100%;\n",
       "  overflow: auto;\n",
       "}\n",
       "\n",
       "#sk-container-id-1 input.sk-toggleable__control:checked~label.sk-toggleable__label-arrow:before {\n",
       "  content: \"▾\";\n",
       "}\n",
       "\n",
       "/* Pipeline/ColumnTransformer-specific style */\n",
       "\n",
       "#sk-container-id-1 div.sk-label input.sk-toggleable__control:checked~label.sk-toggleable__label {\n",
       "  color: var(--sklearn-color-text);\n",
       "  background-color: var(--sklearn-color-unfitted-level-2);\n",
       "}\n",
       "\n",
       "#sk-container-id-1 div.sk-label.fitted input.sk-toggleable__control:checked~label.sk-toggleable__label {\n",
       "  background-color: var(--sklearn-color-fitted-level-2);\n",
       "}\n",
       "\n",
       "/* Estimator-specific style */\n",
       "\n",
       "/* Colorize estimator box */\n",
       "#sk-container-id-1 div.sk-estimator input.sk-toggleable__control:checked~label.sk-toggleable__label {\n",
       "  /* unfitted */\n",
       "  background-color: var(--sklearn-color-unfitted-level-2);\n",
       "}\n",
       "\n",
       "#sk-container-id-1 div.sk-estimator.fitted input.sk-toggleable__control:checked~label.sk-toggleable__label {\n",
       "  /* fitted */\n",
       "  background-color: var(--sklearn-color-fitted-level-2);\n",
       "}\n",
       "\n",
       "#sk-container-id-1 div.sk-label label.sk-toggleable__label,\n",
       "#sk-container-id-1 div.sk-label label {\n",
       "  /* The background is the default theme color */\n",
       "  color: var(--sklearn-color-text-on-default-background);\n",
       "}\n",
       "\n",
       "/* On hover, darken the color of the background */\n",
       "#sk-container-id-1 div.sk-label:hover label.sk-toggleable__label {\n",
       "  color: var(--sklearn-color-text);\n",
       "  background-color: var(--sklearn-color-unfitted-level-2);\n",
       "}\n",
       "\n",
       "/* Label box, darken color on hover, fitted */\n",
       "#sk-container-id-1 div.sk-label.fitted:hover label.sk-toggleable__label.fitted {\n",
       "  color: var(--sklearn-color-text);\n",
       "  background-color: var(--sklearn-color-fitted-level-2);\n",
       "}\n",
       "\n",
       "/* Estimator label */\n",
       "\n",
       "#sk-container-id-1 div.sk-label label {\n",
       "  font-family: monospace;\n",
       "  font-weight: bold;\n",
       "  display: inline-block;\n",
       "  line-height: 1.2em;\n",
       "}\n",
       "\n",
       "#sk-container-id-1 div.sk-label-container {\n",
       "  text-align: center;\n",
       "}\n",
       "\n",
       "/* Estimator-specific */\n",
       "#sk-container-id-1 div.sk-estimator {\n",
       "  font-family: monospace;\n",
       "  border: 1px dotted var(--sklearn-color-border-box);\n",
       "  border-radius: 0.25em;\n",
       "  box-sizing: border-box;\n",
       "  margin-bottom: 0.5em;\n",
       "  /* unfitted */\n",
       "  background-color: var(--sklearn-color-unfitted-level-0);\n",
       "}\n",
       "\n",
       "#sk-container-id-1 div.sk-estimator.fitted {\n",
       "  /* fitted */\n",
       "  background-color: var(--sklearn-color-fitted-level-0);\n",
       "}\n",
       "\n",
       "/* on hover */\n",
       "#sk-container-id-1 div.sk-estimator:hover {\n",
       "  /* unfitted */\n",
       "  background-color: var(--sklearn-color-unfitted-level-2);\n",
       "}\n",
       "\n",
       "#sk-container-id-1 div.sk-estimator.fitted:hover {\n",
       "  /* fitted */\n",
       "  background-color: var(--sklearn-color-fitted-level-2);\n",
       "}\n",
       "\n",
       "/* Specification for estimator info (e.g. \"i\" and \"?\") */\n",
       "\n",
       "/* Common style for \"i\" and \"?\" */\n",
       "\n",
       ".sk-estimator-doc-link,\n",
       "a:link.sk-estimator-doc-link,\n",
       "a:visited.sk-estimator-doc-link {\n",
       "  float: right;\n",
       "  font-size: smaller;\n",
       "  line-height: 1em;\n",
       "  font-family: monospace;\n",
       "  background-color: var(--sklearn-color-background);\n",
       "  border-radius: 1em;\n",
       "  height: 1em;\n",
       "  width: 1em;\n",
       "  text-decoration: none !important;\n",
       "  margin-left: 1ex;\n",
       "  /* unfitted */\n",
       "  border: var(--sklearn-color-unfitted-level-1) 1pt solid;\n",
       "  color: var(--sklearn-color-unfitted-level-1);\n",
       "}\n",
       "\n",
       ".sk-estimator-doc-link.fitted,\n",
       "a:link.sk-estimator-doc-link.fitted,\n",
       "a:visited.sk-estimator-doc-link.fitted {\n",
       "  /* fitted */\n",
       "  border: var(--sklearn-color-fitted-level-1) 1pt solid;\n",
       "  color: var(--sklearn-color-fitted-level-1);\n",
       "}\n",
       "\n",
       "/* On hover */\n",
       "div.sk-estimator:hover .sk-estimator-doc-link:hover,\n",
       ".sk-estimator-doc-link:hover,\n",
       "div.sk-label-container:hover .sk-estimator-doc-link:hover,\n",
       ".sk-estimator-doc-link:hover {\n",
       "  /* unfitted */\n",
       "  background-color: var(--sklearn-color-unfitted-level-3);\n",
       "  color: var(--sklearn-color-background);\n",
       "  text-decoration: none;\n",
       "}\n",
       "\n",
       "div.sk-estimator.fitted:hover .sk-estimator-doc-link.fitted:hover,\n",
       ".sk-estimator-doc-link.fitted:hover,\n",
       "div.sk-label-container:hover .sk-estimator-doc-link.fitted:hover,\n",
       ".sk-estimator-doc-link.fitted:hover {\n",
       "  /* fitted */\n",
       "  background-color: var(--sklearn-color-fitted-level-3);\n",
       "  color: var(--sklearn-color-background);\n",
       "  text-decoration: none;\n",
       "}\n",
       "\n",
       "/* Span, style for the box shown on hovering the info icon */\n",
       ".sk-estimator-doc-link span {\n",
       "  display: none;\n",
       "  z-index: 9999;\n",
       "  position: relative;\n",
       "  font-weight: normal;\n",
       "  right: .2ex;\n",
       "  padding: .5ex;\n",
       "  margin: .5ex;\n",
       "  width: min-content;\n",
       "  min-width: 20ex;\n",
       "  max-width: 50ex;\n",
       "  color: var(--sklearn-color-text);\n",
       "  box-shadow: 2pt 2pt 4pt #999;\n",
       "  /* unfitted */\n",
       "  background: var(--sklearn-color-unfitted-level-0);\n",
       "  border: .5pt solid var(--sklearn-color-unfitted-level-3);\n",
       "}\n",
       "\n",
       ".sk-estimator-doc-link.fitted span {\n",
       "  /* fitted */\n",
       "  background: var(--sklearn-color-fitted-level-0);\n",
       "  border: var(--sklearn-color-fitted-level-3);\n",
       "}\n",
       "\n",
       ".sk-estimator-doc-link:hover span {\n",
       "  display: block;\n",
       "}\n",
       "\n",
       "/* \"?\"-specific style due to the `<a>` HTML tag */\n",
       "\n",
       "#sk-container-id-1 a.estimator_doc_link {\n",
       "  float: right;\n",
       "  font-size: 1rem;\n",
       "  line-height: 1em;\n",
       "  font-family: monospace;\n",
       "  background-color: var(--sklearn-color-background);\n",
       "  border-radius: 1rem;\n",
       "  height: 1rem;\n",
       "  width: 1rem;\n",
       "  text-decoration: none;\n",
       "  /* unfitted */\n",
       "  color: var(--sklearn-color-unfitted-level-1);\n",
       "  border: var(--sklearn-color-unfitted-level-1) 1pt solid;\n",
       "}\n",
       "\n",
       "#sk-container-id-1 a.estimator_doc_link.fitted {\n",
       "  /* fitted */\n",
       "  border: var(--sklearn-color-fitted-level-1) 1pt solid;\n",
       "  color: var(--sklearn-color-fitted-level-1);\n",
       "}\n",
       "\n",
       "/* On hover */\n",
       "#sk-container-id-1 a.estimator_doc_link:hover {\n",
       "  /* unfitted */\n",
       "  background-color: var(--sklearn-color-unfitted-level-3);\n",
       "  color: var(--sklearn-color-background);\n",
       "  text-decoration: none;\n",
       "}\n",
       "\n",
       "#sk-container-id-1 a.estimator_doc_link.fitted:hover {\n",
       "  /* fitted */\n",
       "  background-color: var(--sklearn-color-fitted-level-3);\n",
       "}\n",
       "</style><div id=\"sk-container-id-1\" class=\"sk-top-container\"><div class=\"sk-text-repr-fallback\"><pre>LogisticRegression(class_weight=&#x27;balanced&#x27;)</pre><b>In a Jupyter environment, please rerun this cell to show the HTML representation or trust the notebook. <br />On GitHub, the HTML representation is unable to render, please try loading this page with nbviewer.org.</b></div><div class=\"sk-container\" hidden><div class=\"sk-item\"><div class=\"sk-estimator fitted sk-toggleable\"><input class=\"sk-toggleable__control sk-hidden--visually\" id=\"sk-estimator-id-1\" type=\"checkbox\" checked><label for=\"sk-estimator-id-1\" class=\"sk-toggleable__label fitted sk-toggleable__label-arrow fitted\">&nbsp;&nbsp;LogisticRegression<a class=\"sk-estimator-doc-link fitted\" rel=\"noreferrer\" target=\"_blank\" href=\"https://scikit-learn.org/1.5/modules/generated/sklearn.linear_model.LogisticRegression.html\">?<span>Documentation for LogisticRegression</span></a><span class=\"sk-estimator-doc-link fitted\">i<span>Fitted</span></span></label><div class=\"sk-toggleable__content fitted\"><pre>LogisticRegression(class_weight=&#x27;balanced&#x27;)</pre></div> </div></div></div></div>"
      ],
      "text/plain": [
       "LogisticRegression(class_weight='balanced')"
      ]
     },
     "execution_count": 12,
     "metadata": {},
     "output_type": "execute_result"
    }
   ],
   "source": [
    "model = LogisticRegression(class_weight='balanced')\n",
    "model.fit(X_train, y_train)"
   ]
  },
  {
   "cell_type": "code",
   "execution_count": 13,
   "metadata": {},
   "outputs": [],
   "source": [
    "y_pred = model.predict(X_test)"
   ]
  },
  {
   "cell_type": "code",
   "execution_count": 14,
   "metadata": {},
   "outputs": [
    {
     "name": "stdout",
     "output_type": "stream",
     "text": [
      "Classification repport: \n",
      "              precision    recall  f1-score   support\n",
      "\n",
      "           0       0.87      0.63      0.73      4522\n",
      "           1       0.39      0.72      0.50      1478\n",
      "\n",
      "    accuracy                           0.65      6000\n",
      "   macro avg       0.63      0.67      0.62      6000\n",
      "weighted avg       0.75      0.65      0.67      6000\n",
      "\n"
     ]
    }
   ],
   "source": [
    "print('Classification repport: ')\n",
    "print(classification_report(y_test, y_pred))"
   ]
  },
  {
   "cell_type": "markdown",
   "metadata": {},
   "source": [
    "The model performs well for category 0 with high values of precision and recall. However, teh performance for category 1 is clearly insufficient, with a precision of 0.29 and recall of 0.35.These low values indicate an inability of the model to correctly identify instances in this category.which compromises its overall effectiveness."
   ]
  },
  {
   "cell_type": "code",
   "execution_count": 15,
   "metadata": {},
   "outputs": [
    {
     "data": {
      "image/png": "[encoded data removed]",
      "text/plain": [
       "<Figure size 640x480 with 1 Axes>"
      ]
     },
     "metadata": {},
     "output_type": "display_data"
    }
   ],
   "source": [
    "# predicted probabilities\n",
    "y_prob = model.predict_proba(X_test)[:, 1]\n",
    "\n",
    "#  ROC curve and AUC\n",
    "fpr, tpr, thresholds = roc_curve(y_test, y_prob)\n",
    "roc_auc = roc_auc_score(y_test, y_prob)\n",
    "\n",
    "# Plot the ROC Curve\n",
    "plt.figure()\n",
    "plt.plot(fpr, tpr, label=f'ROC Curve (AUC = {roc_auc:.2f})')\n",
    "plt.plot([0, 1], [0, 1], 'k--', label='Random Guess')\n",
    "plt.xlabel('False Positive Rate')\n",
    "plt.ylabel('True Positive Rate')\n",
    "plt.title('Receiver Operating Characteristic')\n",
    "plt.legend(loc=\"lower right\")\n",
    "plt.show()"
   ]
  },
  {
   "cell_type": "markdown",
   "metadata": {},
   "source": [
    "The ROC curve indicates that our model has decent but not excellent performance. It is able to distinguish positive examples from negative examples to some extent. The AUC of 0.74 suggests that the model is slightly better than a random model, but it could be improved."
   ]
  },
  {
   "cell_type": "markdown",
   "metadata": {},
   "source": [
    "The model's performance is heavily skewed towards class 0. This imbalance is due to the class distribution in the dataset."
   ]
  },
  {
   "cell_type": "markdown",
   "metadata": {},
   "source": [
    "We will test few more methods in order to choose the optimal model. "
   ]
  },
  {
   "cell_type": "markdown",
   "metadata": {},
   "source": [
    "### Random Forest Classifier"
   ]
  },
  {
   "cell_type": "code",
   "execution_count": 16,
   "metadata": {},
   "outputs": [
    {
     "name": "stdout",
     "output_type": "stream",
     "text": [
      "              precision    recall  f1-score   support\n",
      "\n",
      "           0       0.79      0.90      0.84      4522\n",
      "           1       0.47      0.27      0.34      1478\n",
      "\n",
      "    accuracy                           0.75      6000\n",
      "   macro avg       0.63      0.59      0.59      6000\n",
      "weighted avg       0.71      0.75      0.72      6000\n",
      "\n"
     ]
    }
   ],
   "source": [
    "from sklearn.ensemble import RandomForestClassifier\n",
    "model = RandomForestClassifier(class_weight='balanced', random_state=42)\n",
    "model.fit(X_train, y_train)\n",
    "y_pred = model.predict(X_test)\n",
    "print(classification_report(y_test, y_pred))"
   ]
  },
  {
   "cell_type": "markdown",
   "metadata": {},
   "source": [
    "### XGBOOST Classifier"
   ]
  },
  {
   "cell_type": "code",
   "execution_count": 17,
   "metadata": {},
   "outputs": [
    {
     "data": {
      "text/html": [
       "<style>#sk-container-id-2 {\n",
       "  /* Definition of color scheme common for light and dark mode */\n",
       "  --sklearn-color-text: black;\n",
       "  --sklearn-color-line: gray;\n",
       "  /* Definition of color scheme for unfitted estimators */\n",
       "  --sklearn-color-unfitted-level-0: #fff5e6;\n",
       "  --sklearn-color-unfitted-level-1: #f6e4d2;\n",
       "  --sklearn-color-unfitted-level-2: #ffe0b3;\n",
       "  --sklearn-color-unfitted-level-3: chocolate;\n",
       "  /* Definition of color scheme for fitted estimators */\n",
       "  --sklearn-color-fitted-level-0: #f0f8ff;\n",
       "  --sklearn-color-fitted-level-1: #d4ebff;\n",
       "  --sklearn-color-fitted-level-2: #b3dbfd;\n",
       "  --sklearn-color-fitted-level-3: cornflowerblue;\n",
       "\n",
       "  /* Specific color for light theme */\n",
       "  --sklearn-color-text-on-default-background: var(--sg-text-color, var(--theme-code-foreground, var(--jp-content-font-color1, black)));\n",
       "  --sklearn-color-background: var(--sg-background-color, var(--theme-background, var(--jp-layout-color0, white)));\n",
       "  --sklearn-color-border-box: var(--sg-text-color, var(--theme-code-foreground, var(--jp-content-font-color1, black)));\n",
       "  --sklearn-color-icon: #696969;\n",
       "\n",
       "  @media (prefers-color-scheme: dark) {\n",
       "    /* Redefinition of color scheme for dark theme */\n",
       "    --sklearn-color-text-on-default-background: var(--sg-text-color, var(--theme-code-foreground, var(--jp-content-font-color1, white)));\n",
       "    --sklearn-color-background: var(--sg-background-color, var(--theme-background, var(--jp-layout-color0, #111)));\n",
       "    --sklearn-color-border-box: var(--sg-text-color, var(--theme-code-foreground, var(--jp-content-font-color1, white)));\n",
       "    --sklearn-color-icon: #878787;\n",
       "  }\n",
       "}\n",
       "\n",
       "#sk-container-id-2 {\n",
       "  color: var(--sklearn-color-text);\n",
       "}\n",
       "\n",
       "#sk-container-id-2 pre {\n",
       "  padding: 0;\n",
       "}\n",
       "\n",
       "#sk-container-id-2 input.sk-hidden--visually {\n",
       "  border: 0;\n",
       "  clip: rect(1px 1px 1px 1px);\n",
       "  clip: rect(1px, 1px, 1px, 1px);\n",
       "  height: 1px;\n",
       "  margin: -1px;\n",
       "  overflow: hidden;\n",
       "  padding: 0;\n",
       "  position: absolute;\n",
       "  width: 1px;\n",
       "}\n",
       "\n",
       "#sk-container-id-2 div.sk-dashed-wrapped {\n",
       "  border: 1px dashed var(--sklearn-color-line);\n",
       "  margin: 0 0.4em 0.5em 0.4em;\n",
       "  box-sizing: border-box;\n",
       "  padding-bottom: 0.4em;\n",
       "  background-color: var(--sklearn-color-background);\n",
       "}\n",
       "\n",
       "#sk-container-id-2 div.sk-container {\n",
       "  /* jupyter's `normalize.less` sets `[hidden] { display: none; }`\n",
       "     but bootstrap.min.css set `[hidden] { display: none !important; }`\n",
       "     so we also need the `!important` here to be able to override the\n",
       "     default hidden behavior on the sphinx rendered scikit-learn.org.\n",
       "     See: https://github.com/scikit-learn/scikit-learn/issues/21755 */\n",
       "  display: inline-block !important;\n",
       "  position: relative;\n",
       "}\n",
       "\n",
       "#sk-container-id-2 div.sk-text-repr-fallback {\n",
       "  display: none;\n",
       "}\n",
       "\n",
       "div.sk-parallel-item,\n",
       "div.sk-serial,\n",
       "div.sk-item {\n",
       "  /* draw centered vertical line to link estimators */\n",
       "  background-image: linear-gradient(var(--sklearn-color-text-on-default-background), var(--sklearn-color-text-on-default-background));\n",
       "  background-size: 2px 100%;\n",
       "  background-repeat: no-repeat;\n",
       "  background-position: center center;\n",
       "}\n",
       "\n",
       "/* Parallel-specific style estimator block */\n",
       "\n",
       "#sk-container-id-2 div.sk-parallel-item::after {\n",
       "  content: \"\";\n",
       "  width: 100%;\n",
       "  border-bottom: 2px solid var(--sklearn-color-text-on-default-background);\n",
       "  flex-grow: 1;\n",
       "}\n",
       "\n",
       "#sk-container-id-2 div.sk-parallel {\n",
       "  display: flex;\n",
       "  align-items: stretch;\n",
       "  justify-content: center;\n",
       "  background-color: var(--sklearn-color-background);\n",
       "  position: relative;\n",
       "}\n",
       "\n",
       "#sk-container-id-2 div.sk-parallel-item {\n",
       "  display: flex;\n",
       "  flex-direction: column;\n",
       "}\n",
       "\n",
       "#sk-container-id-2 div.sk-parallel-item:first-child::after {\n",
       "  align-self: flex-end;\n",
       "  width: 50%;\n",
       "}\n",
       "\n",
       "#sk-container-id-2 div.sk-parallel-item:last-child::after {\n",
       "  align-self: flex-start;\n",
       "  width: 50%;\n",
       "}\n",
       "\n",
       "#sk-container-id-2 div.sk-parallel-item:only-child::after {\n",
       "  width: 0;\n",
       "}\n",
       "\n",
       "/* Serial-specific style estimator block */\n",
       "\n",
       "#sk-container-id-2 div.sk-serial {\n",
       "  display: flex;\n",
       "  flex-direction: column;\n",
       "  align-items: center;\n",
       "  background-color: var(--sklearn-color-background);\n",
       "  padding-right: 1em;\n",
       "  padding-left: 1em;\n",
       "}\n",
       "\n",
       "\n",
       "/* Toggleable style: style used for estimator/Pipeline/ColumnTransformer box that is\n",
       "clickable and can be expanded/collapsed.\n",
       "- Pipeline and ColumnTransformer use this feature and define the default style\n",
       "- Estimators will overwrite some part of the style using the `sk-estimator` class\n",
       "*/\n",
       "\n",
       "/* Pipeline and ColumnTransformer style (default) */\n",
       "\n",
       "#sk-container-id-2 div.sk-toggleable {\n",
       "  /* Default theme specific background. It is overwritten whether we have a\n",
       "  specific estimator or a Pipeline/ColumnTransformer */\n",
       "  background-color: var(--sklearn-color-background);\n",
       "}\n",
       "\n",
       "/* Toggleable label */\n",
       "#sk-container-id-2 label.sk-toggleable__label {\n",
       "  cursor: pointer;\n",
       "  display: block;\n",
       "  width: 100%;\n",
       "  margin-bottom: 0;\n",
       "  padding: 0.5em;\n",
       "  box-sizing: border-box;\n",
       "  text-align: center;\n",
       "}\n",
       "\n",
       "#sk-container-id-2 label.sk-toggleable__label-arrow:before {\n",
       "  /* Arrow on the left of the label */\n",
       "  content: \"▸\";\n",
       "  float: left;\n",
       "  margin-right: 0.25em;\n",
       "  color: var(--sklearn-color-icon);\n",
       "}\n",
       "\n",
       "#sk-container-id-2 label.sk-toggleable__label-arrow:hover:before {\n",
       "  color: var(--sklearn-color-text);\n",
       "}\n",
       "\n",
       "/* Toggleable content - dropdown */\n",
       "\n",
       "#sk-container-id-2 div.sk-toggleable__content {\n",
       "  max-height: 0;\n",
       "  max-width: 0;\n",
       "  overflow: hidden;\n",
       "  text-align: left;\n",
       "  /* unfitted */\n",
       "  background-color: var(--sklearn-color-unfitted-level-0);\n",
       "}\n",
       "\n",
       "#sk-container-id-2 div.sk-toggleable__content.fitted {\n",
       "  /* fitted */\n",
       "  background-color: var(--sklearn-color-fitted-level-0);\n",
       "}\n",
       "\n",
       "#sk-container-id-2 div.sk-toggleable__content pre {\n",
       "  margin: 0.2em;\n",
       "  border-radius: 0.25em;\n",
       "  color: var(--sklearn-color-text);\n",
       "  /* unfitted */\n",
       "  background-color: var(--sklearn-color-unfitted-level-0);\n",
       "}\n",
       "\n",
       "#sk-container-id-2 div.sk-toggleable__content.fitted pre {\n",
       "  /* unfitted */\n",
       "  background-color: var(--sklearn-color-fitted-level-0);\n",
       "}\n",
       "\n",
       "#sk-container-id-2 input.sk-toggleable__control:checked~div.sk-toggleable__content {\n",
       "  /* Expand drop-down */\n",
       "  max-height: 200px;\n",
       "  max-width: 100%;\n",
       "  overflow: auto;\n",
       "}\n",
       "\n",
       "#sk-container-id-2 input.sk-toggleable__control:checked~label.sk-toggleable__label-arrow:before {\n",
       "  content: \"▾\";\n",
       "}\n",
       "\n",
       "/* Pipeline/ColumnTransformer-specific style */\n",
       "\n",
       "#sk-container-id-2 div.sk-label input.sk-toggleable__control:checked~label.sk-toggleable__label {\n",
       "  color: var(--sklearn-color-text);\n",
       "  background-color: var(--sklearn-color-unfitted-level-2);\n",
       "}\n",
       "\n",
       "#sk-container-id-2 div.sk-label.fitted input.sk-toggleable__control:checked~label.sk-toggleable__label {\n",
       "  background-color: var(--sklearn-color-fitted-level-2);\n",
       "}\n",
       "\n",
       "/* Estimator-specific style */\n",
       "\n",
       "/* Colorize estimator box */\n",
       "#sk-container-id-2 div.sk-estimator input.sk-toggleable__control:checked~label.sk-toggleable__label {\n",
       "  /* unfitted */\n",
       "  background-color: var(--sklearn-color-unfitted-level-2);\n",
       "}\n",
       "\n",
       "#sk-container-id-2 div.sk-estimator.fitted input.sk-toggleable__control:checked~label.sk-toggleable__label {\n",
       "  /* fitted */\n",
       "  background-color: var(--sklearn-color-fitted-level-2);\n",
       "}\n",
       "\n",
       "#sk-container-id-2 div.sk-label label.sk-toggleable__label,\n",
       "#sk-container-id-2 div.sk-label label {\n",
       "  /* The background is the default theme color */\n",
       "  color: var(--sklearn-color-text-on-default-background);\n",
       "}\n",
       "\n",
       "/* On hover, darken the color of the background */\n",
       "#sk-container-id-2 div.sk-label:hover label.sk-toggleable__label {\n",
       "  color: var(--sklearn-color-text);\n",
       "  background-color: var(--sklearn-color-unfitted-level-2);\n",
       "}\n",
       "\n",
       "/* Label box, darken color on hover, fitted */\n",
       "#sk-container-id-2 div.sk-label.fitted:hover label.sk-toggleable__label.fitted {\n",
       "  color: var(--sklearn-color-text);\n",
       "  background-color: var(--sklearn-color-fitted-level-2);\n",
       "}\n",
       "\n",
       "/* Estimator label */\n",
       "\n",
       "#sk-container-id-2 div.sk-label label {\n",
       "  font-family: monospace;\n",
       "  font-weight: bold;\n",
       "  display: inline-block;\n",
       "  line-height: 1.2em;\n",
       "}\n",
       "\n",
       "#sk-container-id-2 div.sk-label-container {\n",
       "  text-align: center;\n",
       "}\n",
       "\n",
       "/* Estimator-specific */\n",
       "#sk-container-id-2 div.sk-estimator {\n",
       "  font-family: monospace;\n",
       "  border: 1px dotted var(--sklearn-color-border-box);\n",
       "  border-radius: 0.25em;\n",
       "  box-sizing: border-box;\n",
       "  margin-bottom: 0.5em;\n",
       "  /* unfitted */\n",
       "  background-color: var(--sklearn-color-unfitted-level-0);\n",
       "}\n",
       "\n",
       "#sk-container-id-2 div.sk-estimator.fitted {\n",
       "  /* fitted */\n",
       "  background-color: var(--sklearn-color-fitted-level-0);\n",
       "}\n",
       "\n",
       "/* on hover */\n",
       "#sk-container-id-2 div.sk-estimator:hover {\n",
       "  /* unfitted */\n",
       "  background-color: var(--sklearn-color-unfitted-level-2);\n",
       "}\n",
       "\n",
       "#sk-container-id-2 div.sk-estimator.fitted:hover {\n",
       "  /* fitted */\n",
       "  background-color: var(--sklearn-color-fitted-level-2);\n",
       "}\n",
       "\n",
       "/* Specification for estimator info (e.g. \"i\" and \"?\") */\n",
       "\n",
       "/* Common style for \"i\" and \"?\" */\n",
       "\n",
       ".sk-estimator-doc-link,\n",
       "a:link.sk-estimator-doc-link,\n",
       "a:visited.sk-estimator-doc-link {\n",
       "  float: right;\n",
       "  font-size: smaller;\n",
       "  line-height: 1em;\n",
       "  font-family: monospace;\n",
       "  background-color: var(--sklearn-color-background);\n",
       "  border-radius: 1em;\n",
       "  height: 1em;\n",
       "  width: 1em;\n",
       "  text-decoration: none !important;\n",
       "  margin-left: 1ex;\n",
       "  /* unfitted */\n",
       "  border: var(--sklearn-color-unfitted-level-1) 1pt solid;\n",
       "  color: var(--sklearn-color-unfitted-level-1);\n",
       "}\n",
       "\n",
       ".sk-estimator-doc-link.fitted,\n",
       "a:link.sk-estimator-doc-link.fitted,\n",
       "a:visited.sk-estimator-doc-link.fitted {\n",
       "  /* fitted */\n",
       "  border: var(--sklearn-color-fitted-level-1) 1pt solid;\n",
       "  color: var(--sklearn-color-fitted-level-1);\n",
       "}\n",
       "\n",
       "/* On hover */\n",
       "div.sk-estimator:hover .sk-estimator-doc-link:hover,\n",
       ".sk-estimator-doc-link:hover,\n",
       "div.sk-label-container:hover .sk-estimator-doc-link:hover,\n",
       ".sk-estimator-doc-link:hover {\n",
       "  /* unfitted */\n",
       "  background-color: var(--sklearn-color-unfitted-level-3);\n",
       "  color: var(--sklearn-color-background);\n",
       "  text-decoration: none;\n",
       "}\n",
       "\n",
       "div.sk-estimator.fitted:hover .sk-estimator-doc-link.fitted:hover,\n",
       ".sk-estimator-doc-link.fitted:hover,\n",
       "div.sk-label-container:hover .sk-estimator-doc-link.fitted:hover,\n",
       ".sk-estimator-doc-link.fitted:hover {\n",
       "  /* fitted */\n",
       "  background-color: var(--sklearn-color-fitted-level-3);\n",
       "  color: var(--sklearn-color-background);\n",
       "  text-decoration: none;\n",
       "}\n",
       "\n",
       "/* Span, style for the box shown on hovering the info icon */\n",
       ".sk-estimator-doc-link span {\n",
       "  display: none;\n",
       "  z-index: 9999;\n",
       "  position: relative;\n",
       "  font-weight: normal;\n",
       "  right: .2ex;\n",
       "  padding: .5ex;\n",
       "  margin: .5ex;\n",
       "  width: min-content;\n",
       "  min-width: 20ex;\n",
       "  max-width: 50ex;\n",
       "  color: var(--sklearn-color-text);\n",
       "  box-shadow: 2pt 2pt 4pt #999;\n",
       "  /* unfitted */\n",
       "  background: var(--sklearn-color-unfitted-level-0);\n",
       "  border: .5pt solid var(--sklearn-color-unfitted-level-3);\n",
       "}\n",
       "\n",
       ".sk-estimator-doc-link.fitted span {\n",
       "  /* fitted */\n",
       "  background: var(--sklearn-color-fitted-level-0);\n",
       "  border: var(--sklearn-color-fitted-level-3);\n",
       "}\n",
       "\n",
       ".sk-estimator-doc-link:hover span {\n",
       "  display: block;\n",
       "}\n",
       "\n",
       "/* \"?\"-specific style due to the `<a>` HTML tag */\n",
       "\n",
       "#sk-container-id-2 a.estimator_doc_link {\n",
       "  float: right;\n",
       "  font-size: 1rem;\n",
       "  line-height: 1em;\n",
       "  font-family: monospace;\n",
       "  background-color: var(--sklearn-color-background);\n",
       "  border-radius: 1rem;\n",
       "  height: 1rem;\n",
       "  width: 1rem;\n",
       "  text-decoration: none;\n",
       "  /* unfitted */\n",
       "  color: var(--sklearn-color-unfitted-level-1);\n",
       "  border: var(--sklearn-color-unfitted-level-1) 1pt solid;\n",
       "}\n",
       "\n",
       "#sk-container-id-2 a.estimator_doc_link.fitted {\n",
       "  /* fitted */\n",
       "  border: var(--sklearn-color-fitted-level-1) 1pt solid;\n",
       "  color: var(--sklearn-color-fitted-level-1);\n",
       "}\n",
       "\n",
       "/* On hover */\n",
       "#sk-container-id-2 a.estimator_doc_link:hover {\n",
       "  /* unfitted */\n",
       "  background-color: var(--sklearn-color-unfitted-level-3);\n",
       "  color: var(--sklearn-color-background);\n",
       "  text-decoration: none;\n",
       "}\n",
       "\n",
       "#sk-container-id-2 a.estimator_doc_link.fitted:hover {\n",
       "  /* fitted */\n",
       "  background-color: var(--sklearn-color-fitted-level-3);\n",
       "}\n",
       "</style><div id=\"sk-container-id-2\" class=\"sk-top-container\"><div class=\"sk-text-repr-fallback\"><pre>XGBClassifier(base_score=None, booster=None, callbacks=None,\n",
       "              colsample_bylevel=None, colsample_bynode=None,\n",
       "              colsample_bytree=None, device=None, early_stopping_rounds=None,\n",
       "              enable_categorical=False, eval_metric=None, feature_types=None,\n",
       "              gamma=None, grow_policy=None, importance_type=None,\n",
       "              interaction_constraints=None, learning_rate=None, max_bin=None,\n",
       "              max_cat_threshold=None, max_cat_to_onehot=None,\n",
       "              max_delta_step=None, max_depth=None, max_leaves=None,\n",
       "              min_child_weight=None, missing=nan, monotone_constraints=None,\n",
       "              multi_strategy=None, n_estimators=None, n_jobs=None,\n",
       "              num_parallel_tree=None, random_state=42, ...)</pre><b>In a Jupyter environment, please rerun this cell to show the HTML representation or trust the notebook. <br />On GitHub, the HTML representation is unable to render, please try loading this page with nbviewer.org.</b></div><div class=\"sk-container\" hidden><div class=\"sk-item\"><div class=\"sk-estimator fitted sk-toggleable\"><input class=\"sk-toggleable__control sk-hidden--visually\" id=\"sk-estimator-id-2\" type=\"checkbox\" checked><label for=\"sk-estimator-id-2\" class=\"sk-toggleable__label fitted sk-toggleable__label-arrow fitted\">&nbsp;XGBClassifier<span class=\"sk-estimator-doc-link fitted\">i<span>Fitted</span></span></label><div class=\"sk-toggleable__content fitted\"><pre>XGBClassifier(base_score=None, booster=None, callbacks=None,\n",
       "              colsample_bylevel=None, colsample_bynode=None,\n",
       "              colsample_bytree=None, device=None, early_stopping_rounds=None,\n",
       "              enable_categorical=False, eval_metric=None, feature_types=None,\n",
       "              gamma=None, grow_policy=None, importance_type=None,\n",
       "              interaction_constraints=None, learning_rate=None, max_bin=None,\n",
       "              max_cat_threshold=None, max_cat_to_onehot=None,\n",
       "              max_delta_step=None, max_depth=None, max_leaves=None,\n",
       "              min_child_weight=None, missing=nan, monotone_constraints=None,\n",
       "              multi_strategy=None, n_estimators=None, n_jobs=None,\n",
       "              num_parallel_tree=None, random_state=42, ...)</pre></div> </div></div></div></div>"
      ],
      "text/plain": [
       "XGBClassifier(base_score=None, booster=None, callbacks=None,\n",
       "              colsample_bylevel=None, colsample_bynode=None,\n",
       "              colsample_bytree=None, device=None, early_stopping_rounds=None,\n",
       "              enable_categorical=False, eval_metric=None, feature_types=None,\n",
       "              gamma=None, grow_policy=None, importance_type=None,\n",
       "              interaction_constraints=None, learning_rate=None, max_bin=None,\n",
       "              max_cat_threshold=None, max_cat_to_onehot=None,\n",
       "              max_delta_step=None, max_depth=None, max_leaves=None,\n",
       "              min_child_weight=None, missing=nan, monotone_constraints=None,\n",
       "              multi_strategy=None, n_estimators=None, n_jobs=None,\n",
       "              num_parallel_tree=None, random_state=42, ...)"
      ]
     },
     "execution_count": 17,
     "metadata": {},
     "output_type": "execute_result"
    }
   ],
   "source": [
    "from xgboost import XGBClassifier \n",
    "model = XGBClassifier(scale_pos_weight=len(y_train[y_train==0])/len(y_train[y_train==1]), random_state = 42)\n",
    "model.fit(X_train, y_train)"
   ]
  },
  {
   "cell_type": "code",
   "execution_count": 18,
   "metadata": {},
   "outputs": [],
   "source": [
    "y_pred = model.predict(X_test)"
   ]
  },
  {
   "cell_type": "code",
   "execution_count": 19,
   "metadata": {},
   "outputs": [
    {
     "name": "stdout",
     "output_type": "stream",
     "text": [
      "              precision    recall  f1-score   support\n",
      "\n",
      "           0       0.85      0.68      0.76      4522\n",
      "           1       0.39      0.63      0.48      1478\n",
      "\n",
      "    accuracy                           0.67      6000\n",
      "   macro avg       0.62      0.65      0.62      6000\n",
      "weighted avg       0.74      0.67      0.69      6000\n",
      "\n"
     ]
    }
   ],
   "source": [
    "print(classification_report(y_test, y_pred))"
   ]
  },
  {
   "cell_type": "markdown",
   "metadata": {},
   "source": [
    "### Grid Search CV"
   ]
  },
  {
   "cell_type": "code",
   "execution_count": 20,
   "metadata": {},
   "outputs": [],
   "source": [
    "from sklearn.model_selection import GridSearchCV\n",
    "param_grid = {\n",
    "    'max_depth': [3,5,7],\n",
    "    'learning_rate':[0.01, 0.1, 0.2],\n",
    "    'n_estimators': [50,100,200],\n",
    "}\n",
    "grid = GridSearchCV(XGBClassifier(random_state = 42), param_grid, scoring='f1', cv=3)\n",
    "grid.fit(X_train, y_train)\n",
    "best_model = grid.best_estimator_"
   ]
  },
  {
   "cell_type": "code",
   "execution_count": 21,
   "metadata": {},
   "outputs": [
    {
     "name": "stdout",
     "output_type": "stream",
     "text": [
      "Best Parameter:  {'learning_rate': 0.2, 'max_depth': 7, 'n_estimators': 200}\n"
     ]
    }
   ],
   "source": [
    "print('Best Parameter: ', grid.best_params_)"
   ]
  },
  {
   "cell_type": "code",
   "execution_count": 22,
   "metadata": {},
   "outputs": [
    {
     "name": "stdout",
     "output_type": "stream",
     "text": [
      "              precision    recall  f1-score   support\n",
      "\n",
      "           0       0.79      0.93      0.85      4522\n",
      "           1       0.52      0.23      0.32      1478\n",
      "\n",
      "    accuracy                           0.76      6000\n",
      "   macro avg       0.66      0.58      0.59      6000\n",
      "weighted avg       0.72      0.76      0.72      6000\n",
      "\n"
     ]
    }
   ],
   "source": [
    "y_pred = best_model.predict(X_test)\n",
    "print(classification_report(y_test, y_pred))"
   ]
  },
  {
   "cell_type": "markdown",
   "metadata": {},
   "source": [
    "### XGBOOST With SMOTE Sampling"
   ]
  },
  {
   "cell_type": "code",
   "execution_count": 23,
   "metadata": {},
   "outputs": [],
   "source": [
    "import imblearn\n",
    "from imblearn.over_sampling import SMOTE"
   ]
  },
  {
   "cell_type": "code",
   "execution_count": 24,
   "metadata": {},
   "outputs": [],
   "source": [
    "smote = SMOTE(sampling_strategy='auto', random_state=42)"
   ]
  },
  {
   "cell_type": "code",
   "execution_count": 25,
   "metadata": {},
   "outputs": [],
   "source": [
    "X_resampled, y_resampled = smote.fit_resample(X_train, y_train)"
   ]
  },
  {
   "cell_type": "code",
   "execution_count": 26,
   "metadata": {},
   "outputs": [
    {
     "name": "stdout",
     "output_type": "stream",
     "text": [
      "Original dataset shape: Counter({0: 10698, 1: 3302})\n",
      "Resampled dataset shape: Counter({0: 10698, 1: 10698})\n"
     ]
    }
   ],
   "source": [
    "from collections import Counter\n",
    "print(f\"Original dataset shape: {Counter(y_train)}\")\n",
    "print(f\"Resampled dataset shape: {Counter(y_resampled)}\")"
   ]
  },
  {
   "cell_type": "code",
   "execution_count": 27,
   "metadata": {},
   "outputs": [
    {
     "data": {
      "text/html": [
       "<style>#sk-container-id-3 {\n",
       "  /* Definition of color scheme common for light and dark mode */\n",
       "  --sklearn-color-text: black;\n",
       "  --sklearn-color-line: gray;\n",
       "  /* Definition of color scheme for unfitted estimators */\n",
       "  --sklearn-color-unfitted-level-0: #fff5e6;\n",
       "  --sklearn-color-unfitted-level-1: #f6e4d2;\n",
       "  --sklearn-color-unfitted-level-2: #ffe0b3;\n",
       "  --sklearn-color-unfitted-level-3: chocolate;\n",
       "  /* Definition of color scheme for fitted estimators */\n",
       "  --sklearn-color-fitted-level-0: #f0f8ff;\n",
       "  --sklearn-color-fitted-level-1: #d4ebff;\n",
       "  --sklearn-color-fitted-level-2: #b3dbfd;\n",
       "  --sklearn-color-fitted-level-3: cornflowerblue;\n",
       "\n",
       "  /* Specific color for light theme */\n",
       "  --sklearn-color-text-on-default-background: var(--sg-text-color, var(--theme-code-foreground, var(--jp-content-font-color1, black)));\n",
       "  --sklearn-color-background: var(--sg-background-color, var(--theme-background, var(--jp-layout-color0, white)));\n",
       "  --sklearn-color-border-box: var(--sg-text-color, var(--theme-code-foreground, var(--jp-content-font-color1, black)));\n",
       "  --sklearn-color-icon: #696969;\n",
       "\n",
       "  @media (prefers-color-scheme: dark) {\n",
       "    /* Redefinition of color scheme for dark theme */\n",
       "    --sklearn-color-text-on-default-background: var(--sg-text-color, var(--theme-code-foreground, var(--jp-content-font-color1, white)));\n",
       "    --sklearn-color-background: var(--sg-background-color, var(--theme-background, var(--jp-layout-color0, #111)));\n",
       "    --sklearn-color-border-box: var(--sg-text-color, var(--theme-code-foreground, var(--jp-content-font-color1, white)));\n",
       "    --sklearn-color-icon: #878787;\n",
       "  }\n",
       "}\n",
       "\n",
       "#sk-container-id-3 {\n",
       "  color: var(--sklearn-color-text);\n",
       "}\n",
       "\n",
       "#sk-container-id-3 pre {\n",
       "  padding: 0;\n",
       "}\n",
       "\n",
       "#sk-container-id-3 input.sk-hidden--visually {\n",
       "  border: 0;\n",
       "  clip: rect(1px 1px 1px 1px);\n",
       "  clip: rect(1px, 1px, 1px, 1px);\n",
       "  height: 1px;\n",
       "  margin: -1px;\n",
       "  overflow: hidden;\n",
       "  padding: 0;\n",
       "  position: absolute;\n",
       "  width: 1px;\n",
       "}\n",
       "\n",
       "#sk-container-id-3 div.sk-dashed-wrapped {\n",
       "  border: 1px dashed var(--sklearn-color-line);\n",
       "  margin: 0 0.4em 0.5em 0.4em;\n",
       "  box-sizing: border-box;\n",
       "  padding-bottom: 0.4em;\n",
       "  background-color: var(--sklearn-color-background);\n",
       "}\n",
       "\n",
       "#sk-container-id-3 div.sk-container {\n",
       "  /* jupyter's `normalize.less` sets `[hidden] { display: none; }`\n",
       "     but bootstrap.min.css set `[hidden] { display: none !important; }`\n",
       "     so we also need the `!important` here to be able to override the\n",
       "     default hidden behavior on the sphinx rendered scikit-learn.org.\n",
       "     See: https://github.com/scikit-learn/scikit-learn/issues/21755 */\n",
       "  display: inline-block !important;\n",
       "  position: relative;\n",
       "}\n",
       "\n",
       "#sk-container-id-3 div.sk-text-repr-fallback {\n",
       "  display: none;\n",
       "}\n",
       "\n",
       "div.sk-parallel-item,\n",
       "div.sk-serial,\n",
       "div.sk-item {\n",
       "  /* draw centered vertical line to link estimators */\n",
       "  background-image: linear-gradient(var(--sklearn-color-text-on-default-background), var(--sklearn-color-text-on-default-background));\n",
       "  background-size: 2px 100%;\n",
       "  background-repeat: no-repeat;\n",
       "  background-position: center center;\n",
       "}\n",
       "\n",
       "/* Parallel-specific style estimator block */\n",
       "\n",
       "#sk-container-id-3 div.sk-parallel-item::after {\n",
       "  content: \"\";\n",
       "  width: 100%;\n",
       "  border-bottom: 2px solid var(--sklearn-color-text-on-default-background);\n",
       "  flex-grow: 1;\n",
       "}\n",
       "\n",
       "#sk-container-id-3 div.sk-parallel {\n",
       "  display: flex;\n",
       "  align-items: stretch;\n",
       "  justify-content: center;\n",
       "  background-color: var(--sklearn-color-background);\n",
       "  position: relative;\n",
       "}\n",
       "\n",
       "#sk-container-id-3 div.sk-parallel-item {\n",
       "  display: flex;\n",
       "  flex-direction: column;\n",
       "}\n",
       "\n",
       "#sk-container-id-3 div.sk-parallel-item:first-child::after {\n",
       "  align-self: flex-end;\n",
       "  width: 50%;\n",
       "}\n",
       "\n",
       "#sk-container-id-3 div.sk-parallel-item:last-child::after {\n",
       "  align-self: flex-start;\n",
       "  width: 50%;\n",
       "}\n",
       "\n",
       "#sk-container-id-3 div.sk-parallel-item:only-child::after {\n",
       "  width: 0;\n",
       "}\n",
       "\n",
       "/* Serial-specific style estimator block */\n",
       "\n",
       "#sk-container-id-3 div.sk-serial {\n",
       "  display: flex;\n",
       "  flex-direction: column;\n",
       "  align-items: center;\n",
       "  background-color: var(--sklearn-color-background);\n",
       "  padding-right: 1em;\n",
       "  padding-left: 1em;\n",
       "}\n",
       "\n",
       "\n",
       "/* Toggleable style: style used for estimator/Pipeline/ColumnTransformer box that is\n",
       "clickable and can be expanded/collapsed.\n",
       "- Pipeline and ColumnTransformer use this feature and define the default style\n",
       "- Estimators will overwrite some part of the style using the `sk-estimator` class\n",
       "*/\n",
       "\n",
       "/* Pipeline and ColumnTransformer style (default) */\n",
       "\n",
       "#sk-container-id-3 div.sk-toggleable {\n",
       "  /* Default theme specific background. It is overwritten whether we have a\n",
       "  specific estimator or a Pipeline/ColumnTransformer */\n",
       "  background-color: var(--sklearn-color-background);\n",
       "}\n",
       "\n",
       "/* Toggleable label */\n",
       "#sk-container-id-3 label.sk-toggleable__label {\n",
       "  cursor: pointer;\n",
       "  display: block;\n",
       "  width: 100%;\n",
       "  margin-bottom: 0;\n",
       "  padding: 0.5em;\n",
       "  box-sizing: border-box;\n",
       "  text-align: center;\n",
       "}\n",
       "\n",
       "#sk-container-id-3 label.sk-toggleable__label-arrow:before {\n",
       "  /* Arrow on the left of the label */\n",
       "  content: \"▸\";\n",
       "  float: left;\n",
       "  margin-right: 0.25em;\n",
       "  color: var(--sklearn-color-icon);\n",
       "}\n",
       "\n",
       "#sk-container-id-3 label.sk-toggleable__label-arrow:hover:before {\n",
       "  color: var(--sklearn-color-text);\n",
       "}\n",
       "\n",
       "/* Toggleable content - dropdown */\n",
       "\n",
       "#sk-container-id-3 div.sk-toggleable__content {\n",
       "  max-height: 0;\n",
       "  max-width: 0;\n",
       "  overflow: hidden;\n",
       "  text-align: left;\n",
       "  /* unfitted */\n",
       "  background-color: var(--sklearn-color-unfitted-level-0);\n",
       "}\n",
       "\n",
       "#sk-container-id-3 div.sk-toggleable__content.fitted {\n",
       "  /* fitted */\n",
       "  background-color: var(--sklearn-color-fitted-level-0);\n",
       "}\n",
       "\n",
       "#sk-container-id-3 div.sk-toggleable__content pre {\n",
       "  margin: 0.2em;\n",
       "  border-radius: 0.25em;\n",
       "  color: var(--sklearn-color-text);\n",
       "  /* unfitted */\n",
       "  background-color: var(--sklearn-color-unfitted-level-0);\n",
       "}\n",
       "\n",
       "#sk-container-id-3 div.sk-toggleable__content.fitted pre {\n",
       "  /* unfitted */\n",
       "  background-color: var(--sklearn-color-fitted-level-0);\n",
       "}\n",
       "\n",
       "#sk-container-id-3 input.sk-toggleable__control:checked~div.sk-toggleable__content {\n",
       "  /* Expand drop-down */\n",
       "  max-height: 200px;\n",
       "  max-width: 100%;\n",
       "  overflow: auto;\n",
       "}\n",
       "\n",
       "#sk-container-id-3 input.sk-toggleable__control:checked~label.sk-toggleable__label-arrow:before {\n",
       "  content: \"▾\";\n",
       "}\n",
       "\n",
       "/* Pipeline/ColumnTransformer-specific style */\n",
       "\n",
       "#sk-container-id-3 div.sk-label input.sk-toggleable__control:checked~label.sk-toggleable__label {\n",
       "  color: var(--sklearn-color-text);\n",
       "  background-color: var(--sklearn-color-unfitted-level-2);\n",
       "}\n",
       "\n",
       "#sk-container-id-3 div.sk-label.fitted input.sk-toggleable__control:checked~label.sk-toggleable__label {\n",
       "  background-color: var(--sklearn-color-fitted-level-2);\n",
       "}\n",
       "\n",
       "/* Estimator-specific style */\n",
       "\n",
       "/* Colorize estimator box */\n",
       "#sk-container-id-3 div.sk-estimator input.sk-toggleable__control:checked~label.sk-toggleable__label {\n",
       "  /* unfitted */\n",
       "  background-color: var(--sklearn-color-unfitted-level-2);\n",
       "}\n",
       "\n",
       "#sk-container-id-3 div.sk-estimator.fitted input.sk-toggleable__control:checked~label.sk-toggleable__label {\n",
       "  /* fitted */\n",
       "  background-color: var(--sklearn-color-fitted-level-2);\n",
       "}\n",
       "\n",
       "#sk-container-id-3 div.sk-label label.sk-toggleable__label,\n",
       "#sk-container-id-3 div.sk-label label {\n",
       "  /* The background is the default theme color */\n",
       "  color: var(--sklearn-color-text-on-default-background);\n",
       "}\n",
       "\n",
       "/* On hover, darken the color of the background */\n",
       "#sk-container-id-3 div.sk-label:hover label.sk-toggleable__label {\n",
       "  color: var(--sklearn-color-text);\n",
       "  background-color: var(--sklearn-color-unfitted-level-2);\n",
       "}\n",
       "\n",
       "/* Label box, darken color on hover, fitted */\n",
       "#sk-container-id-3 div.sk-label.fitted:hover label.sk-toggleable__label.fitted {\n",
       "  color: var(--sklearn-color-text);\n",
       "  background-color: var(--sklearn-color-fitted-level-2);\n",
       "}\n",
       "\n",
       "/* Estimator label */\n",
       "\n",
       "#sk-container-id-3 div.sk-label label {\n",
       "  font-family: monospace;\n",
       "  font-weight: bold;\n",
       "  display: inline-block;\n",
       "  line-height: 1.2em;\n",
       "}\n",
       "\n",
       "#sk-container-id-3 div.sk-label-container {\n",
       "  text-align: center;\n",
       "}\n",
       "\n",
       "/* Estimator-specific */\n",
       "#sk-container-id-3 div.sk-estimator {\n",
       "  font-family: monospace;\n",
       "  border: 1px dotted var(--sklearn-color-border-box);\n",
       "  border-radius: 0.25em;\n",
       "  box-sizing: border-box;\n",
       "  margin-bottom: 0.5em;\n",
       "  /* unfitted */\n",
       "  background-color: var(--sklearn-color-unfitted-level-0);\n",
       "}\n",
       "\n",
       "#sk-container-id-3 div.sk-estimator.fitted {\n",
       "  /* fitted */\n",
       "  background-color: var(--sklearn-color-fitted-level-0);\n",
       "}\n",
       "\n",
       "/* on hover */\n",
       "#sk-container-id-3 div.sk-estimator:hover {\n",
       "  /* unfitted */\n",
       "  background-color: var(--sklearn-color-unfitted-level-2);\n",
       "}\n",
       "\n",
       "#sk-container-id-3 div.sk-estimator.fitted:hover {\n",
       "  /* fitted */\n",
       "  background-color: var(--sklearn-color-fitted-level-2);\n",
       "}\n",
       "\n",
       "/* Specification for estimator info (e.g. \"i\" and \"?\") */\n",
       "\n",
       "/* Common style for \"i\" and \"?\" */\n",
       "\n",
       ".sk-estimator-doc-link,\n",
       "a:link.sk-estimator-doc-link,\n",
       "a:visited.sk-estimator-doc-link {\n",
       "  float: right;\n",
       "  font-size: smaller;\n",
       "  line-height: 1em;\n",
       "  font-family: monospace;\n",
       "  background-color: var(--sklearn-color-background);\n",
       "  border-radius: 1em;\n",
       "  height: 1em;\n",
       "  width: 1em;\n",
       "  text-decoration: none !important;\n",
       "  margin-left: 1ex;\n",
       "  /* unfitted */\n",
       "  border: var(--sklearn-color-unfitted-level-1) 1pt solid;\n",
       "  color: var(--sklearn-color-unfitted-level-1);\n",
       "}\n",
       "\n",
       ".sk-estimator-doc-link.fitted,\n",
       "a:link.sk-estimator-doc-link.fitted,\n",
       "a:visited.sk-estimator-doc-link.fitted {\n",
       "  /* fitted */\n",
       "  border: var(--sklearn-color-fitted-level-1) 1pt solid;\n",
       "  color: var(--sklearn-color-fitted-level-1);\n",
       "}\n",
       "\n",
       "/* On hover */\n",
       "div.sk-estimator:hover .sk-estimator-doc-link:hover,\n",
       ".sk-estimator-doc-link:hover,\n",
       "div.sk-label-container:hover .sk-estimator-doc-link:hover,\n",
       ".sk-estimator-doc-link:hover {\n",
       "  /* unfitted */\n",
       "  background-color: var(--sklearn-color-unfitted-level-3);\n",
       "  color: var(--sklearn-color-background);\n",
       "  text-decoration: none;\n",
       "}\n",
       "\n",
       "div.sk-estimator.fitted:hover .sk-estimator-doc-link.fitted:hover,\n",
       ".sk-estimator-doc-link.fitted:hover,\n",
       "div.sk-label-container:hover .sk-estimator-doc-link.fitted:hover,\n",
       ".sk-estimator-doc-link.fitted:hover {\n",
       "  /* fitted */\n",
       "  background-color: var(--sklearn-color-fitted-level-3);\n",
       "  color: var(--sklearn-color-background);\n",
       "  text-decoration: none;\n",
       "}\n",
       "\n",
       "/* Span, style for the box shown on hovering the info icon */\n",
       ".sk-estimator-doc-link span {\n",
       "  display: none;\n",
       "  z-index: 9999;\n",
       "  position: relative;\n",
       "  font-weight: normal;\n",
       "  right: .2ex;\n",
       "  padding: .5ex;\n",
       "  margin: .5ex;\n",
       "  width: min-content;\n",
       "  min-width: 20ex;\n",
       "  max-width: 50ex;\n",
       "  color: var(--sklearn-color-text);\n",
       "  box-shadow: 2pt 2pt 4pt #999;\n",
       "  /* unfitted */\n",
       "  background: var(--sklearn-color-unfitted-level-0);\n",
       "  border: .5pt solid var(--sklearn-color-unfitted-level-3);\n",
       "}\n",
       "\n",
       ".sk-estimator-doc-link.fitted span {\n",
       "  /* fitted */\n",
       "  background: var(--sklearn-color-fitted-level-0);\n",
       "  border: var(--sklearn-color-fitted-level-3);\n",
       "}\n",
       "\n",
       ".sk-estimator-doc-link:hover span {\n",
       "  display: block;\n",
       "}\n",
       "\n",
       "/* \"?\"-specific style due to the `<a>` HTML tag */\n",
       "\n",
       "#sk-container-id-3 a.estimator_doc_link {\n",
       "  float: right;\n",
       "  font-size: 1rem;\n",
       "  line-height: 1em;\n",
       "  font-family: monospace;\n",
       "  background-color: var(--sklearn-color-background);\n",
       "  border-radius: 1rem;\n",
       "  height: 1rem;\n",
       "  width: 1rem;\n",
       "  text-decoration: none;\n",
       "  /* unfitted */\n",
       "  color: var(--sklearn-color-unfitted-level-1);\n",
       "  border: var(--sklearn-color-unfitted-level-1) 1pt solid;\n",
       "}\n",
       "\n",
       "#sk-container-id-3 a.estimator_doc_link.fitted {\n",
       "  /* fitted */\n",
       "  border: var(--sklearn-color-fitted-level-1) 1pt solid;\n",
       "  color: var(--sklearn-color-fitted-level-1);\n",
       "}\n",
       "\n",
       "/* On hover */\n",
       "#sk-container-id-3 a.estimator_doc_link:hover {\n",
       "  /* unfitted */\n",
       "  background-color: var(--sklearn-color-unfitted-level-3);\n",
       "  color: var(--sklearn-color-background);\n",
       "  text-decoration: none;\n",
       "}\n",
       "\n",
       "#sk-container-id-3 a.estimator_doc_link.fitted:hover {\n",
       "  /* fitted */\n",
       "  background-color: var(--sklearn-color-fitted-level-3);\n",
       "}\n",
       "</style><div id=\"sk-container-id-3\" class=\"sk-top-container\"><div class=\"sk-text-repr-fallback\"><pre>XGBClassifier(base_score=None, booster=None, callbacks=None,\n",
       "              colsample_bylevel=None, colsample_bynode=None,\n",
       "              colsample_bytree=None, device=None, early_stopping_rounds=None,\n",
       "              enable_categorical=False, eval_metric=None, feature_types=None,\n",
       "              gamma=None, grow_policy=None, importance_type=None,\n",
       "              interaction_constraints=None, learning_rate=None, max_bin=None,\n",
       "              max_cat_threshold=None, max_cat_to_onehot=None,\n",
       "              max_delta_step=None, max_depth=None, max_leaves=None,\n",
       "              min_child_weight=None, missing=nan, monotone_constraints=None,\n",
       "              multi_strategy=None, n_estimators=None, n_jobs=None,\n",
       "              num_parallel_tree=None, random_state=42, ...)</pre><b>In a Jupyter environment, please rerun this cell to show the HTML representation or trust the notebook. <br />On GitHub, the HTML representation is unable to render, please try loading this page with nbviewer.org.</b></div><div class=\"sk-container\" hidden><div class=\"sk-item\"><div class=\"sk-estimator fitted sk-toggleable\"><input class=\"sk-toggleable__control sk-hidden--visually\" id=\"sk-estimator-id-3\" type=\"checkbox\" checked><label for=\"sk-estimator-id-3\" class=\"sk-toggleable__label fitted sk-toggleable__label-arrow fitted\">&nbsp;XGBClassifier<span class=\"sk-estimator-doc-link fitted\">i<span>Fitted</span></span></label><div class=\"sk-toggleable__content fitted\"><pre>XGBClassifier(base_score=None, booster=None, callbacks=None,\n",
       "              colsample_bylevel=None, colsample_bynode=None,\n",
       "              colsample_bytree=None, device=None, early_stopping_rounds=None,\n",
       "              enable_categorical=False, eval_metric=None, feature_types=None,\n",
       "              gamma=None, grow_policy=None, importance_type=None,\n",
       "              interaction_constraints=None, learning_rate=None, max_bin=None,\n",
       "              max_cat_threshold=None, max_cat_to_onehot=None,\n",
       "              max_delta_step=None, max_depth=None, max_leaves=None,\n",
       "              min_child_weight=None, missing=nan, monotone_constraints=None,\n",
       "              multi_strategy=None, n_estimators=None, n_jobs=None,\n",
       "              num_parallel_tree=None, random_state=42, ...)</pre></div> </div></div></div></div>"
      ],
      "text/plain": [
       "XGBClassifier(base_score=None, booster=None, callbacks=None,\n",
       "              colsample_bylevel=None, colsample_bynode=None,\n",
       "              colsample_bytree=None, device=None, early_stopping_rounds=None,\n",
       "              enable_categorical=False, eval_metric=None, feature_types=None,\n",
       "              gamma=None, grow_policy=None, importance_type=None,\n",
       "              interaction_constraints=None, learning_rate=None, max_bin=None,\n",
       "              max_cat_threshold=None, max_cat_to_onehot=None,\n",
       "              max_delta_step=None, max_depth=None, max_leaves=None,\n",
       "              min_child_weight=None, missing=nan, monotone_constraints=None,\n",
       "              multi_strategy=None, n_estimators=None, n_jobs=None,\n",
       "              num_parallel_tree=None, random_state=42, ...)"
      ]
     },
     "execution_count": 27,
     "metadata": {},
     "output_type": "execute_result"
    }
   ],
   "source": [
    "from xgboost import XGBClassifier \n",
    "model = XGBClassifier( random_state = 42)\n",
    "model.fit(X_resampled, y_resampled)"
   ]
  },
  {
   "cell_type": "code",
   "execution_count": 28,
   "metadata": {},
   "outputs": [
    {
     "name": "stdout",
     "output_type": "stream",
     "text": [
      "              precision    recall  f1-score   support\n",
      "\n",
      "           0       0.82      0.83      0.82      4522\n",
      "           1       0.46      0.45      0.45      1478\n",
      "\n",
      "    accuracy                           0.73      6000\n",
      "   macro avg       0.64      0.64      0.64      6000\n",
      "weighted avg       0.73      0.73      0.73      6000\n",
      "\n"
     ]
    }
   ],
   "source": [
    "y_pred = model.predict(X_test)\n",
    "print(classification_report(y_test, y_pred))"
   ]
  },
  {
   "cell_type": "markdown",
   "metadata": {},
   "source": [
    "###  XGBOOST With SMOTE and Random Undersampling"
   ]
  },
  {
   "cell_type": "code",
   "execution_count": 29,
   "metadata": {},
   "outputs": [],
   "source": [
    "from imblearn.under_sampling import RandomUnderSampler\n",
    "from imblearn.pipeline import Pipeline"
   ]
  },
  {
   "cell_type": "code",
   "execution_count": null,
   "metadata": {},
   "outputs": [
    {
     "name": "stdout",
     "output_type": "stream",
     "text": [
      "              precision    recall  f1-score   support\n",
      "\n",
      "           0       0.86      0.88      0.87      4522\n",
      "           1       0.60      0.57      0.58      1478\n",
      "\n",
      "    accuracy                           0.80      6000\n",
      "   macro avg       0.73      0.72      0.73      6000\n",
      "weighted avg       0.80      0.80      0.80      6000\n",
      "\n"
     ]
    }
   ],
   "source": [
    "smote = SMOTE(random_state = 42)\n",
    "undersample = RandomUnderSampler(random_state=42)\n",
    "resample_pipeline = Pipeline(steps=[('smote', smote), ('undersample', undersample)])\n",
    "X_resampled, y_resampled = resample_pipeline.fit_resample(X, y)\n",
    "#X_train, X_test, y_train, y_test = train_test_split(X,y,test_size=0.3, random_state=42)\n",
    " \n",
    "model = XGBClassifier( random_state = 42)\n",
    "model.fit(X_resampled, y_resampled)\n",
    "\n",
    "y_pred = model.predict(X_test)\n",
    "print(classification_report(y_test, y_pred))\n"
   ]
  },
  {
   "cell_type": "markdown",
   "metadata": {},
   "source": [
    "# Final Model:"
   ]
  },
  {
   "cell_type": "code",
   "execution_count": 57,
   "metadata": {},
   "outputs": [
    {
     "data": {
      "text/html": [
       "<div>\n",
       "<style scoped>\n",
       "    .dataframe tbody tr th:only-of-type {\n",
       "        vertical-align: middle;\n",
       "    }\n",
       "\n",
       "    .dataframe tbody tr th {\n",
       "        vertical-align: top;\n",
       "    }\n",
       "\n",
       "    .dataframe thead th {\n",
       "        text-align: right;\n",
       "    }\n",
       "</style>\n",
       "<table border=\"1\" class=\"dataframe\">\n",
       "  <thead>\n",
       "    <tr style=\"text-align: right;\">\n",
       "      <th></th>\n",
       "      <th>Model</th>\n",
       "      <th>Precision (class 0)</th>\n",
       "      <th>Recall (class 0)</th>\n",
       "      <th>F1 (class0)</th>\n",
       "      <th>Precision (class 1)</th>\n",
       "      <th>Recall (class 1)</th>\n",
       "      <th>F1 (class 1)</th>\n",
       "    </tr>\n",
       "  </thead>\n",
       "  <tbody>\n",
       "    <tr>\n",
       "      <th>0</th>\n",
       "      <td>Logistic Regression</td>\n",
       "      <td>0.77</td>\n",
       "      <td>0.73</td>\n",
       "      <td>0.73</td>\n",
       "      <td>0.29</td>\n",
       "      <td>0.35</td>\n",
       "      <td>0.50</td>\n",
       "    </tr>\n",
       "    <tr>\n",
       "      <th>1</th>\n",
       "      <td>Random Forest</td>\n",
       "      <td>0.79</td>\n",
       "      <td>0.90</td>\n",
       "      <td>0.84</td>\n",
       "      <td>0.47</td>\n",
       "      <td>0.27</td>\n",
       "      <td>0.34</td>\n",
       "    </tr>\n",
       "    <tr>\n",
       "      <th>2</th>\n",
       "      <td>Grid SearchCV</td>\n",
       "      <td>0.85</td>\n",
       "      <td>0.68</td>\n",
       "      <td>0.76</td>\n",
       "      <td>0.39</td>\n",
       "      <td>0.63</td>\n",
       "      <td>0.48</td>\n",
       "    </tr>\n",
       "    <tr>\n",
       "      <th>3</th>\n",
       "      <td>XGBOOST</td>\n",
       "      <td>0.79</td>\n",
       "      <td>0.93</td>\n",
       "      <td>0.85</td>\n",
       "      <td>0.53</td>\n",
       "      <td>0.23</td>\n",
       "      <td>0.32</td>\n",
       "    </tr>\n",
       "    <tr>\n",
       "      <th>4</th>\n",
       "      <td>XGBOOST with SMOTE</td>\n",
       "      <td>0.82</td>\n",
       "      <td>0.83</td>\n",
       "      <td>0.82</td>\n",
       "      <td>0.46</td>\n",
       "      <td>0.45</td>\n",
       "      <td>0.45</td>\n",
       "    </tr>\n",
       "    <tr>\n",
       "      <th>5</th>\n",
       "      <td>XGBOOST with  SMOTE &amp; Random Undersampling</td>\n",
       "      <td>0.86</td>\n",
       "      <td>0.88</td>\n",
       "      <td>0.87</td>\n",
       "      <td>0.60</td>\n",
       "      <td>0.57</td>\n",
       "      <td>0.58</td>\n",
       "    </tr>\n",
       "  </tbody>\n",
       "</table>\n",
       "</div>"
      ],
      "text/plain": [
       "                                        Model  Precision (class 0)  \\\n",
       "0                         Logistic Regression                 0.77   \n",
       "1                               Random Forest                 0.79   \n",
       "2                               Grid SearchCV                 0.85   \n",
       "3                                     XGBOOST                 0.79   \n",
       "4                          XGBOOST with SMOTE                 0.82   \n",
       "5  XGBOOST with  SMOTE & Random Undersampling                 0.86   \n",
       "\n",
       "   Recall (class 0)  F1 (class0)  Precision (class 1)  Recall (class 1)  \\\n",
       "0              0.73         0.73                 0.29              0.35   \n",
       "1              0.90         0.84                 0.47              0.27   \n",
       "2              0.68         0.76                 0.39              0.63   \n",
       "3              0.93         0.85                 0.53              0.23   \n",
       "4              0.83         0.82                 0.46              0.45   \n",
       "5              0.88         0.87                 0.60              0.57   \n",
       "\n",
       "   F1 (class 1)  \n",
       "0          0.50  \n",
       "1          0.34  \n",
       "2          0.48  \n",
       "3          0.32  \n",
       "4          0.45  \n",
       "5          0.58  "
      ]
     },
     "execution_count": 57,
     "metadata": {},
     "output_type": "execute_result"
    }
   ],
   "source": [
    "model_results = {\n",
    "    'Model': ['Logistic Regression', 'Random Forest', 'Grid SearchCV', 'XGBOOST', 'XGBOOST with SMOTE', 'XGBOOST with  SMOTE & Random Undersampling'],\n",
    "    'Precision (class 0)' : [0.77, 0.79, 0.85, 0.79, 0.82, 0.86],\n",
    "    'Recall (class 0)' : [0.73, 0.90, 0.68, 0.93, 0.83, 0.88],\n",
    "    'F1 (class0)': [0.73, 0.84, 0.76, 0.85, 0.82, 0.87],\n",
    "    'Precision (class 1)' : [0.29, 0.47, 0.39, 0.53, 0.46, 0.60],\n",
    "    'Recall (class 1)' : [0.35, 0.27, 0.63, 0.23, 0.45, 0.57],\n",
    "    'F1 (class 1)' : [0.50, 0.34, 0.48, 0.32, 0.45, 0.58],\n",
    "}\n",
    "Results = pd.DataFrame(model_results)\n",
    "Results"
   ]
  },
  {
   "cell_type": "markdown",
   "metadata": {},
   "source": [
    "Afetr testing with multiple modeling technics, the XGBoost model with SMOTE and Random Undersampling appears to be the optimal model. Based on metrics like the precision, the recall and the F1 score, it seems to have the most balanced performance across both classes. Taking into acount the extrem imblance in the dataset between class 0 and 1, we can say thea it reasonable performance."
   ]
  },
  {
   "cell_type": "code",
   "execution_count": 31,
   "metadata": {},
   "outputs": [
    {
     "name": "stdout",
     "output_type": "stream",
     "text": [
      "[[3957  565]\n",
      " [ 637  841]]\n"
     ]
    }
   ],
   "source": [
    "conf_mat = confusion_matrix(y_test, y_pred)\n",
    "print(conf_mat)"
   ]
  },
  {
   "cell_type": "code",
   "execution_count": 32,
   "metadata": {},
   "outputs": [
    {
     "data": {
      "image/png": "[encoded data removed]",
      "text/plain": [
       "<Figure size 640x480 with 2 Axes>"
      ]
     },
     "metadata": {},
     "output_type": "display_data"
    }
   ],
   "source": [
    "sns.heatmap(conf_mat, annot=True, fmt='d', cmap='Blues', xticklabels = [\"No\", \"Yes\"], yticklabels = [\"No\", \"Yes\"])\n",
    "plt.xlabel('Predicted')\n",
    "plt.ylabel('Actual')\n",
    "plt.title('Confusion Matrix')\n",
    "plt.show()"
   ]
  },
  {
   "cell_type": "code",
   "execution_count": 33,
   "metadata": {},
   "outputs": [],
   "source": [
    "y_prob = model.predict_proba(X_test)[:, 1]\n",
    "\n",
    "\n",
    "fpr, tpr, thresholds = roc_curve(y_test, y_prob)\n",
    "roc_auc = roc_auc_score(y_test, y_prob)"
   ]
  },
  {
   "cell_type": "code",
   "execution_count": 34,
   "metadata": {},
   "outputs": [
    {
     "data": {
      "image/png": "[encoded data removed]",
      "text/plain": [
       "<Figure size 640x480 with 1 Axes>"
      ]
     },
     "metadata": {},
     "output_type": "display_data"
    }
   ],
   "source": [
    "plt.figure()\n",
    "plt.plot(fpr, tpr, label=f'ROC Curve (AUC = {roc_auc:.2f})')\n",
    "plt.plot([0, 1], [0, 1], 'k--', label='Random Guess')\n",
    "plt.xlabel('False Positive Rate')\n",
    "plt.ylabel('True Positive Rate')\n",
    "plt.title('Receiver Operating Characteristic')\n",
    "plt.legend(loc=\"lower right\")\n",
    "plt.show()"
   ]
  },
  {
   "cell_type": "markdown",
   "metadata": {},
   "source": [
    "### Interpreting the ROC Curve\n",
    "\n",
    "Curve shape: The ideal ROC curve is a line that rises vertically along the y-axis and then horizontally along the x-axis. The closer the curve is to this ideal shape, the better the model's performance. In this case, the curve is relatively close to the ideal shape, indicating good performance.\n",
    "\n",
    "Area Under the Curve (AUC): The AUC (Area Under the Curve) is a quantitative measure of the overall performance of the model. It varies between 0 and 1. An AUC of 0.5 corresponds to a random model, while an AUC of 1 corresponds to a perfect model. In this case, with an AUC of 0.83, our model has good classification performance.\n",
    "\n",
    "\n",
    "Overall, the ROC curve indicates that our model performs well. It is able to distinguish positive examples from negative examples with good accuracy. The AUC of 0.83 suggests that the model is significantly better than a random model."
   ]
  },
  {
   "cell_type": "code",
   "execution_count": 43,
   "metadata": {},
   "outputs": [
    {
     "data": {
      "image/png": "[encoded data removed]",
      "text/plain": [
       "<Figure size 640x480 with 1 Axes>"
      ]
     },
     "metadata": {},
     "output_type": "display_data"
    }
   ],
   "source": [
    "import xgboost as xgb\n",
    "xgb.plot_importance(model, importance_type='gain')\n",
    "plt.show()"
   ]
  },
  {
   "cell_type": "markdown",
   "metadata": {},
   "source": [
    "## Feature Importance Visualization Analysis:\n",
    "\n",
    "In models like XGBoost, the F-score (feature importance) represents how often a feature is used to split the data across all decision trees in the ensemble. A higher F-score indicates that the feature is frequently used for splits.\n",
    "\n",
    "### LoanDuration: \n",
    "It is the most important feature: It is used most frequently to split the data.\n",
    "\n",
    "### InterestRate:\n",
    "It is less important than LoanDuration: Although it is used significantly, interest is less important than loan duration in the model's data splits.\n",
    "\n",
    "### LoanAmount:\n",
    "It is the least important: The loan amount appears to be the least used feature in the data splits.\n",
    "\n",
    "\n",
    "### Limitations and nuances to consider:\n",
    "\n",
    "It is essential to keep the following limitations in mind when interpreting this type of plot:\n",
    "\n",
    "F-score and actual impact: A high F-score indicates frequent use of a feature in decision trees, but does not guarantee that this feature has the greatest impact on the final prediction. For example, a feature may be used frequently to create minor splits in the data, but may not have a significant impact on the predicted value.\n",
    "\n",
    "Feature interactions: The F-score does not account for feature interactions. A feature may have a large impact when combined with others, but this impact may not be reflected in its individual F-score.\n"
   ]
  },
  {
   "cell_type": "code",
   "execution_count": 62,
   "metadata": {},
   "outputs": [
    {
     "data": {
      "image/png": "[encoded data removed]",
      "text/plain": [
       "<Figure size 800x270 with 2 Axes>"
      ]
     },
     "metadata": {},
     "output_type": "display_data"
    }
   ],
   "source": [
    "import shap\n",
    "explainer = shap.Explainer(model)\n",
    "shap_values = explainer(X_test)\n",
    "shap.summary_plot(shap_values, X_test)"
   ]
  },
  {
   "cell_type": "markdown",
   "metadata": {},
   "source": [
    "## SHAP Visualization Analysis:\n",
    "\n",
    "SHAP values quantify the magnitude and direction of a feature’s contribution to a single prediction.\n",
    "It tells us how much the presence of a feature influences the prediction outcome compared to the baseline (average prediction).\n",
    "\n",
    "\n",
    "### Interest Rate:\n",
    "\n",
    "Higher interest rates generally have a negative impact on the loan decision (lower SHAP values). In other words, the higher the interest rate, the less likely the loan is to be granted.\n",
    "\n",
    "### Loan Duration: \n",
    "\n",
    "The impact of loan duration is less clear. Some observations with longer durations have a positive impact, while others have a negative impact. This suggests that the relationship between loan duration and the loan decision is more complex and may depend on other characteristics.\n",
    "\n",
    "### LoanAmount: \n",
    "\n",
    "Similar to the interest rate, higher loan amounts (red dots) tend to have a negative impact on the loan decision.\n",
    "\n",
    "\n",
    "Conclusions:\n",
    "\n",
    "Interest rate and loan amount appear to be the most important characteristics influencing the loan decision in this model.\n",
    "The duration of the loan has a less obvious impact and would require further analysis."
   ]
  },
  {
   "cell_type": "markdown",
   "metadata": {},
   "source": [
    "## Cross-Validation:"
   ]
  },
  {
   "cell_type": "code",
   "execution_count": 63,
   "metadata": {},
   "outputs": [
    {
     "name": "stdout",
     "output_type": "stream",
     "text": [
      "Cross-Validation F1 Scores: [0.77498719 0.77633379 0.77348821 0.76149623 0.78304743]\n",
      "Mean F1 Score: 0.773870568107473\n"
     ]
    }
   ],
   "source": [
    "from sklearn.model_selection import cross_val_score\n",
    "scores = cross_val_score(model, X_resampled, y_resampled, scoring='f1', cv= 5)\n",
    "print(f\"Cross-Validation F1 Scores: {scores}\")\n",
    "print(f\"Mean F1 Score: {scores.mean()}\")\n"
   ]
  },
  {
   "cell_type": "markdown",
   "metadata": {},
   "source": [
    "The cross-validation mean F1 score (0.77) falls between the two F1 scores from the classification repport (0.87 and 0.58), this suggests that the model is reasonably consistent. A mean F1 of 0.77 indicates that the model performs well on unseen data."
   ]
  },
  {
   "cell_type": "markdown",
   "metadata": {},
   "source": [
    "# Creditworthiness variables-based model"
   ]
  },
  {
   "cell_type": "code",
   "execution_count": 37,
   "metadata": {},
   "outputs": [],
   "source": [
    "X2 = data[['CreditScore', 'TotalDebtToIncomeRatio', 'MonthlyLoanPayment']]\n",
    "y2 = data['LoanApproved']"
   ]
  },
  {
   "cell_type": "code",
   "execution_count": 39,
   "metadata": {},
   "outputs": [],
   "source": [
    "X2_train, X2_test, y2_train, y2_test = train_test_split(X2,y2,test_size=0.3, random_state=42)"
   ]
  },
  {
   "cell_type": "code",
   "execution_count": 40,
   "metadata": {},
   "outputs": [
    {
     "name": "stdout",
     "output_type": "stream",
     "text": [
      "              precision    recall  f1-score   support\n",
      "\n",
      "           0       0.96      0.85      0.90      4522\n",
      "           1       0.66      0.89      0.76      1478\n",
      "\n",
      "    accuracy                           0.86      6000\n",
      "   macro avg       0.81      0.87      0.83      6000\n",
      "weighted avg       0.89      0.86      0.87      6000\n",
      "\n"
     ]
    }
   ],
   "source": [
    "smote = SMOTE(random_state = 42)\n",
    "undersample = RandomUnderSampler(random_state=42)\n",
    "resample_pipeline = Pipeline(steps=[('smote', smote), ('undersample', undersample)])\n",
    "X2_resampled, y2_resampled = resample_pipeline.fit_resample(X2, y2)\n",
    "\n",
    " \n",
    "model2 = XGBClassifier( random_state = 42)\n",
    "model2.fit(X2_resampled, y2_resampled)\n",
    "\n",
    "y2_pred = model2.predict(X2_test)\n",
    "print(classification_report(y2_test, y2_pred))"
   ]
  },
  {
   "cell_type": "code",
   "execution_count": 41,
   "metadata": {},
   "outputs": [],
   "source": [
    "y2_prob = model2.predict_proba(X2_test)[:, 1]\n",
    "\n",
    "\n",
    "fpr, tpr, thresholds = roc_curve(y2_test, y2_prob)\n",
    "roc_auc = roc_auc_score(y2_test, y2_prob)"
   ]
  },
  {
   "cell_type": "code",
   "execution_count": 42,
   "metadata": {},
   "outputs": [
    {
     "data": {
      "image/png": "[encoded data removed]",
      "text/plain": [
       "<Figure size 640x480 with 1 Axes>"
      ]
     },
     "metadata": {},
     "output_type": "display_data"
    }
   ],
   "source": [
    "plt.figure()\n",
    "plt.plot(fpr, tpr, label=f'ROC Curve (AUC = {roc_auc:.2f})')\n",
    "plt.plot([0, 1], [0, 1], 'k--', label='Random Guess')\n",
    "plt.xlabel('False Positive Rate')\n",
    "plt.ylabel('True Positive Rate')\n",
    "plt.title('Receiver Operating Characteristic')\n",
    "plt.legend(loc=\"lower right\")\n",
    "plt.show()"
   ]
  },
  {
   "cell_type": "markdown",
   "metadata": {},
   "source": [
    "AUC (Area Under the Curve) of 0.95: This value close to 1 indicates that the model has an excellent ability to distinguish positive classes from negative classes.\n",
    "\n",
    "Curve close to the upper left corner: This means that the model achieves a high true positive rate while maintaining a low false positive rate, which is desirable."
   ]
  },
  {
   "cell_type": "markdown",
   "metadata": {},
   "source": [
    "We decide to finalize this model as it meets performance expectations. The metrics, including precision, recall, and an AUC-ROC score of 0.95, demonstrate a strong ability to predict loan approval accurately. Considering the class imbalance in the dataset, the performance is both resonable and acceptable."
   ]
  },
  {
   "cell_type": "code",
   "execution_count": 45,
   "metadata": {},
   "outputs": [
    {
     "data": {
      "image/png": "[encoded data removed]",
      "text/plain": [
       "<Figure size 800x270 with 2 Axes>"
      ]
     },
     "metadata": {},
     "output_type": "display_data"
    }
   ],
   "source": [
    "explainer = shap.Explainer(model2)\n",
    "shap_values = explainer(X2_test)\n",
    "shap.summary_plot(shap_values, X2_test)"
   ]
  },
  {
   "cell_type": "markdown",
   "metadata": {},
   "source": [
    "## SHAP Visualization Analysis :\n",
    "\n",
    "### Total Debt To Income Ratio:\n",
    "\n",
    "Impact: A high debt ratio generally has a negative impact on the prediction (predominantly negative SHAP values). This means that the higher the ratio, the less likely it is that the loan will be granted.\n",
    "\n",
    "Distribution: The distribution of SHAP values ​​is quite wide, suggesting that the impact of this ratio can vary considerably across observations.\n",
    "\n",
    "### Monthly Loan Payments:\n",
    "\n",
    "Impact: A high monthly payments amount generally has a negative impact on the prediction. This makes sense, since a high monthly payments can make it more difficult to repay the loan.\n",
    "\n",
    "Distribution: The distribution is more concentrated around negative values, indicating a more systematic negative impact than for the debt ratio.\n",
    "\n",
    "### Credit Score:\n",
    "\n",
    "Impact: A high credit score generally has a positive impact on the prediction. This means that a better credit score increases the chances of getting a loan.\n",
    "\n",
    "Distribution: The distribution is centered around positive values, confirming the importance of the credit score in the loan decision.\n",
    "\n",
    "### Conclusions:\n",
    "\n",
    "This SHAP plot allows us to draw the following conclusions:\n",
    "\n",
    "The model places great importance on the debt ratio and the credit score. Both of these characteristics have a significant impact on the final prediction.\n",
    "A high debt ratio and a high monthly payment amount tend to decrease the chances of getting a loan.\n",
    "A high credit score increases the chances of getting a loan."
   ]
  },
  {
   "cell_type": "markdown",
   "metadata": {},
   "source": [
    "## Cross-Validation:"
   ]
  },
  {
   "cell_type": "code",
   "execution_count": 64,
   "metadata": {},
   "outputs": [
    {
     "name": "stdout",
     "output_type": "stream",
     "text": [
      "Cross-Validation F1 Scores: [0.85327817 0.85330807 0.85228882 0.8601432  0.85934793]\n",
      "Mean F1 Score: 0.8556732355991725\n"
     ]
    }
   ],
   "source": [
    "scores = cross_val_score(model2, X2_resampled, y2_resampled, scoring='f1', cv= 5)\n",
    "print(f\"Cross-Validation F1 Scores: {scores}\")\n",
    "print(f\"Mean F1 Score: {scores.mean()}\")\n"
   ]
  },
  {
   "cell_type": "markdown",
   "metadata": {},
   "source": [
    "Mean F1 Score of 0.85 indicates a good performance."
   ]
  },
  {
   "cell_type": "markdown",
   "metadata": {},
   "source": [
    "# Business Impact\n",
    "\n",
    "The insights and predictive models developed through this project provide practical tools for loan officers to make more informed decisions about loan approvals. Specifically:\n",
    "\n",
    "1. Loan Characteristics Model:\n",
    "• Loan officers can use this model to assess the likelihood of loan approval based on characteristics such as loan duration, interest rates, and loan amounts.\n",
    "• By identifying the most impactful variables (e.g., interest rate), loan officers can tailor loan offers or set thresholds for approval criteria to reduce risk.\n",
    "\n",
    "2. Creditworthiness Model:\n",
    "• This model allows loan officers to assess borrowers’ creditworthiness based on factors such as monthly debt payments, credit score, and dept to income ratio.\n",
    "• It helps streamline the decision-making process by flagging high-risk applications, allowing loan officers to focus on cases with a higher likelihood of approval.\n",
    "\n",
    "3. Impact of imbalanced categories:\n",
    "• The models account for the imbalance between approved and rejected loans, ensuring that forecasts remain reliable for underrepresented cases (approved loans).\n",
    "• This reduces the risk of denying loans to potentially creditworthy individuals, thereby promoting inclusion and profitability.\n",
    "\n",
    "4. Operational efficiency:\n",
    "• By automating parts of the decision-making process, these models can reduce the time required for manual loan reviews and improve the consistency of approvals."
   ]
  }
 ],
 "metadata": {
  "kernelspec": {
   "display_name": "base",
   "language": "python",
   "name": "python3"
  },
  "language_info": {
   "codemirror_mode": {
    "name": "ipython",
    "version": 3
   },
   "file_extension": ".py",
   "mimetype": "text/x-python",
   "name": "python",
   "nbconvert_exporter": "python",
   "pygments_lexer": "ipython3",
   "version": "3.11.5"
  }
 },
 "nbformat": 4,
 "nbformat_minor": 2
}
